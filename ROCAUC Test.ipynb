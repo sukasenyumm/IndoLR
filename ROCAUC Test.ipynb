{
 "cells": [
  {
   "cell_type": "code",
   "execution_count": 1,
   "id": "1327e919",
   "metadata": {},
   "outputs": [],
   "source": [
    "import numpy as np\n",
    "np.random.seed(10)\n",
    "\n",
    "import matplotlib.pyplot as plt\n",
    "\n",
    "from sklearn.datasets import make_classification\n",
    "from sklearn.ensemble import RandomForestClassifier\n",
    "from sklearn.model_selection import train_test_split\n",
    "from sklearn.metrics import roc_curve\n",
    "\n",
    "# Import the required libraries.\n",
    "import os\n",
    "import cv2\n",
    "#import pafy\n",
    "import math\n",
    "import random\n",
    "import numpy as np\n",
    "import datetime as dt\n",
    "import tensorflow as tf\n",
    "from collections import deque\n",
    "import matplotlib.pyplot as plt\n",
    "\n",
    "#from moviepy.editor import *\n",
    "%matplotlib inline\n",
    "\n",
    "from sklearn.model_selection import train_test_split\n",
    "\n",
    "from tensorflow.keras.layers import *\n",
    "from tensorflow.keras.models import Sequential\n",
    "from tensorflow.keras.utils import to_categorical\n",
    "from tensorflow.keras.callbacks import EarlyStopping\n",
    "from tensorflow.keras.utils import plot_model\n",
    "\n",
    "import os\n",
    "os.environ['PYTHONHASHSEED'] = '0'\n",
    "os.environ['CUDA_VISIBLE_DEVICES'] = ''"
   ]
  },
  {
   "cell_type": "code",
   "execution_count": 2,
   "id": "716bc91a",
   "metadata": {},
   "outputs": [],
   "source": [
    "tf.keras.backend.clear_session()\n",
    "seed_constant = 27\n",
    "np.random.seed(seed_constant)\n",
    "tf.random.set_seed(seed_constant)\n",
    "random.seed(seed_constant)\n",
    "tf.keras.utils.set_random_seed(seed_constant)"
   ]
  },
  {
   "cell_type": "code",
   "execution_count": 3,
   "id": "5df501e9",
   "metadata": {},
   "outputs": [
    {
     "name": "stdout",
     "output_type": "stream",
     "text": [
      "['10outfinal', '1outfinal', '2outfinal', '3outfinal', '4outfinal', '5outfinal', '6outfinal', '7outfinal', '8outfinal', '9outfinal']\n"
     ]
    },
    {
     "data": {
      "text/plain": [
       "<Figure size 2000x2000 with 0 Axes>"
      ]
     },
     "metadata": {},
     "output_type": "display_data"
    }
   ],
   "source": [
    "# Create a Matplotlib figure and specify the size of the figure.\n",
    "plt.figure(figsize = (20, 20))\n",
    "\n",
    "# Get the names of all classes/categories in UCF50.\n",
    "TRAIN_DIR = r'train'\n",
    "VAL_DIR = r'val'\n",
    "TEST_DIR = r'test'\n",
    "all_classes_names = sorted(os.listdir(TRAIN_DIR))\n",
    "print(all_classes_names)\n"
   ]
  },
  {
   "cell_type": "code",
   "execution_count": 4,
   "id": "f2a01005",
   "metadata": {},
   "outputs": [],
   "source": [
    "# Specify the height and width to which each video frame will be resized in our dataset.\n",
    "IMAGE_HEIGHT , IMAGE_WIDTH = 80, 80\n",
    "\n",
    "# Specify the directory containing the UCF50 dataset. \n",
    "#DATASET_DIR = \"/newdatasetMediapipe/kata/\"\n",
    "\n",
    "# Specify the list containing the names of the classes used for training. Feel free to choose any set of classes.\n",
    "CLASSES_LIST =all_classes_names\n",
    "#CLASSES_LIST = ['2 Tolong', '7 permisi', '1 Maaf']"
   ]
  },
  {
   "cell_type": "code",
   "execution_count": 5,
   "id": "68aa79c3",
   "metadata": {},
   "outputs": [
    {
     "name": "stdout",
     "output_type": "stream",
     "text": [
      "30\n"
     ]
    }
   ],
   "source": [
    "SEQUENCE_LENGTH = 30#getAverageSequenceLength()\n",
    "print(SEQUENCE_LENGTH)"
   ]
  },
  {
   "cell_type": "code",
   "execution_count": 6,
   "id": "5c8a5d95",
   "metadata": {},
   "outputs": [],
   "source": [
    "def getDatafromNpz(file):\n",
    "    return file['data'],file['label']\n",
    "dtrain = np.load('feature_train.npz')\n",
    "dval = np.load('feature_val.npz')\n",
    "dtest = np.load('feature_test.npz')\n",
    "\n",
    "features_train,labels_train = getDatafromNpz(dtrain)\n",
    "features_test,labels_test = getDatafromNpz(dtest)\n",
    "features_val,labels_val = getDatafromNpz(dval)\n",
    "\n",
    "from keras.models import load_model\n",
    "convlstm_model = load_model(\"./HASILConvLSTM/convlstm_model___Date_Time_2024_01_15__19_48_10___Loss_0.501771092414856___Accuracy_0.9041666388511658.h5\")"
   ]
  },
  {
   "cell_type": "code",
   "execution_count": 7,
   "id": "20398428",
   "metadata": {},
   "outputs": [
    {
     "name": "stdout",
     "output_type": "stream",
     "text": [
      "[[0 0 0 0 1 0 0 0 0 0]\n",
      " [0 0 0 0 0 1 0 0 0 0]]\n"
     ]
    }
   ],
   "source": [
    "from sklearn.datasets import make_classification\n",
    "from sklearn.preprocessing import label_binarize\n",
    "labels_test = label_binarize(labels_test, classes=[0, 1, 2, 3, 4, 5, 6, 7, 8, 9])\n",
    "print(labels_test[:2])"
   ]
  },
  {
   "cell_type": "code",
   "execution_count": 8,
   "id": "376a1152",
   "metadata": {},
   "outputs": [
    {
     "name": "stdout",
     "output_type": "stream",
     "text": [
      "1/1 [==============================] - 5s 5s/step\n",
      "8/8 [==============================] - 1s 105ms/step - loss: 0.5018 - accuracy: 0.9042\n",
      "2\n"
     ]
    }
   ],
   "source": [
    "y_score = convlstm_model.predict(features_test[1:2])\n",
    "model_evaluation_history = convlstm_model.evaluate(features_test, labels_test)\n",
    "print(len(features_test[1:3]))"
   ]
  },
  {
   "cell_type": "code",
   "execution_count": 9,
   "id": "2f3ce6e0",
   "metadata": {},
   "outputs": [
    {
     "name": "stdout",
     "output_type": "stream",
     "text": [
      "Model: \"sequential\"\n",
      "_________________________________________________________________\n",
      " Layer (type)                Output Shape              Param #   \n",
      "=================================================================\n",
      " conv_lstm2d (ConvLSTM2D)    (None, 30, 78, 78, 8)     3200      \n",
      "                                                                 \n",
      " max_pooling3d (MaxPooling3D  (None, 15, 39, 39, 8)    0         \n",
      " )                                                               \n",
      "                                                                 \n",
      " conv_lstm2d_1 (ConvLSTM2D)  (None, 15, 37, 37, 16)    13888     \n",
      "                                                                 \n",
      " max_pooling3d_1 (MaxPooling  (None, 8, 19, 19, 16)    0         \n",
      " 3D)                                                             \n",
      "                                                                 \n",
      " flatten (Flatten)           (None, 46208)             0         \n",
      "                                                                 \n",
      " dense (Dense)               (None, 10)                462090    \n",
      "                                                                 \n",
      "=================================================================\n",
      "Total params: 479,178\n",
      "Trainable params: 479,178\n",
      "Non-trainable params: 0\n",
      "_________________________________________________________________\n",
      "100.58333333333333\n"
     ]
    }
   ],
   "source": [
    "convlstm_model.summary()\n",
    "import time\n",
    "def current_milli_time():\n",
    "    return round(time.time() * 1000)\n",
    "def Average(lst): \n",
    "    return sum(lst) / len(lst) \n",
    "\n",
    "pred_time_list=[]\n",
    "for i in range(len(features_test)):\n",
    "    start = current_milli_time() \n",
    "    result = convlstm_model.predict(features_test[i:i+1],verbose=0)\n",
    "    end = current_milli_time()\n",
    "    pred_time_list.append(end-start)\n",
    "print(Average(pred_time_list)) "
   ]
  },
  {
   "cell_type": "code",
   "execution_count": null,
   "id": "a252f6c9",
   "metadata": {},
   "outputs": [],
   "source": [
    "def numberToLabel(i):\n",
    "    if i == 0:\n",
    "        return \"Maaf\"\n",
    "    if i == 1:\n",
    "        return \"Tolong\"\n",
    "    if i == 2:\n",
    "        return \"Permisi\"\n",
    "    if i == 3:\n",
    "        return \"Halo\"\n",
    "    if i == 4:\n",
    "        return \"Mulai\"\n",
    "    if i == 5:\n",
    "        return \"Berhenti\"\n",
    "    if i == 6:\n",
    "        return \"Lanjut\"\n",
    "    if i == 7:\n",
    "        return \"Sakit\"\n",
    "    if i == 8:\n",
    "        return \"Kembali\"\n",
    "    if i == 9:\n",
    "        return \"Awas\""
   ]
  },
  {
   "cell_type": "code",
   "execution_count": null,
   "id": "979c0f26",
   "metadata": {},
   "outputs": [],
   "source": [
    "import numpy as np\n",
    "import matplotlib.pyplot as plt\n",
    "from itertools import cycle\n",
    "from sklearn.metrics import roc_curve, auc\n",
    "\n",
    "def generate_random_color():\n",
    "    r = random.random()\n",
    "    g = random.random()\n",
    "    b = random.random()\n",
    "    return (r, g, b)\n",
    "\n",
    "n_classes = len(all_classes_names)\n",
    "# Plot linewidth.\n",
    "lw = 2\n",
    "# random color list\n",
    "cyclecolor = []\n",
    "for i in range(n_classes):\n",
    "    cyclecolor.append(generate_random_color())\n",
    "print(cyclecolor)\n",
    "# Compute ROC curve and ROC area for each class\n",
    "fpr = dict()\n",
    "tpr = dict()\n",
    "roc_auc = dict()\n",
    "for i in range(n_classes):\n",
    "    fpr[i], tpr[i], _ = roc_curve(labels_test[:, i], y_score[:, i])\n",
    "    roc_auc[i] = auc(fpr[i], tpr[i])\n",
    "\n",
    "# Compute micro-average ROC curve and ROC area\n",
    "fpr[\"micro\"], tpr[\"micro\"], _ = roc_curve(labels_test.ravel(), y_score.ravel())\n",
    "roc_auc[\"micro\"] = auc(fpr[\"micro\"], tpr[\"micro\"])\n",
    "\n",
    "# Compute macro-average ROC curve and ROC area\n",
    "\n",
    "# First aggregate all false positive rates\n",
    "all_fpr = np.unique(np.concatenate([fpr[i] for i in range(n_classes)]))\n",
    "\n",
    "# Then interpolate all ROC curves at this points\n",
    "mean_tpr = np.zeros_like(all_fpr)\n",
    "for i in range(n_classes):\n",
    "    mean_tpr += np.interp(all_fpr, fpr[i], tpr[i])\n",
    "\n",
    "# Finally average it and compute AUC\n",
    "mean_tpr /= n_classes\n",
    "\n",
    "fpr[\"macro\"] = all_fpr\n",
    "tpr[\"macro\"] = mean_tpr\n",
    "roc_auc[\"macro\"] = auc(fpr[\"macro\"], tpr[\"macro\"])\n",
    "\n",
    "# Plot all ROC curves\n",
    "plt.figure(1)\n",
    "#plt.plot(fpr[\"micro\"], tpr[\"micro\"],\n",
    "#         label='micro-average (AUC = {0:0.5f})'\n",
    "#               ''.format(roc_auc[\"micro\"]),\n",
    "#         color='deeppink', linestyle=':', linewidth=4)\n",
    "\n",
    "#plt.plot(fpr[\"macro\"], tpr[\"macro\"],\n",
    "#         label='macro-average (AUC = {0:0.5f})'\n",
    "#               ''.format(roc_auc[\"macro\"]),\n",
    "#         color='navy', linestyle=':', linewidth=4)\n",
    "\n",
    "#colors = cycle(cyclecolor)#['aqua', 'darkorange', 'cornflowerblue', 'brown',generate_random_color()])\n",
    "colors = cycle([(0.36304485383006224, 0.13127808794416607, 0.46500653405023196),(0.44784037927230047, 0.24361044497306306, 0.9619475862332232),(0.9097541287531854, 0.4153999995918298, 0.6314691892992672),(0.9431365027204199, 0.32218312786294245, 0.35724299603957155),(0.951999732878447, 0.40032164982498486, 0.7596470545715319),(0.498648681286753, 0.4657004573117104, 0.7560587818444884),(0.08526676666572275, 0.4726985147916237, 0.021651492098737624),(0.3437280047335154, 0.34598655530196465, 0.6061628072574675),(0.2275998170118243, 0.7154946792135707, 0.7034996002472135),(0.35019879829306844, 0.06756675128772494, 0.5546605694666252)])\n",
    "for i, color in zip(range(n_classes), colors):\n",
    "    print(color,end=\",\")\n",
    "for i, color in zip(range(n_classes), colors):\n",
    "    plt.plot(fpr[i], tpr[i], color=color, lw=lw,\n",
    "             label='{0} (AUC = {1:0.5f})'\n",
    "             ''.format(numberToLabel(i), roc_auc[i]))\n",
    "\n",
    "plt.plot([0, 1], [0, 1], 'k--', lw=lw)\n",
    "plt.xlim([0.0, 1.0])\n",
    "plt.ylim([0.0, 1.05])\n",
    "plt.xlabel('False Positive Rate')\n",
    "plt.ylabel('True Positive Rate')\n",
    "#plt.title('Some extension of Receiver operating characteristic to multi-class')\n",
    "#plt.legend(loc=\"lower right\")\n",
    "fig1 = plt.gcf()\n",
    "plt.show()\n",
    "fig1.savefig(\"ROCAUCZOOM_HASILLRCN3lyr.jpg\",dpi=600)\n",
    "\n",
    "# Zoom in view of the upper left corner.\n",
    "plt.figure(2)\n",
    "plt.xlim(0, 0.5)\n",
    "plt.ylim(0.6, 1)\n",
    "#plt.plot(fpr[\"micro\"], tpr[\"micro\"],\n",
    "#         label='micro-average (AUC = {0:0.5f})'\n",
    "#               ''.format(roc_auc[\"micro\"]),\n",
    "#         color='deeppink', linestyle=':', linewidth=4)\n",
    "\n",
    "#plt.plot(fpr[\"macro\"], tpr[\"macro\"],\n",
    "#         label='macro-average (AUC = {0:0.5f})'\n",
    "#               ''.format(roc_auc[\"macro\"]),\n",
    "#         color='navy', linestyle=':', linewidth=4)\n",
    "\n",
    "#colors = cycle(cyclecolor)\n",
    "for i, color in zip(range(n_classes), colors):\n",
    "    plt.plot(fpr[i], tpr[i], color=color, lw=lw,\n",
    "             label='{0} (AUC = {1:0.5f})'\n",
    "             ''.format(numberToLabel(i), roc_auc[i]))\n",
    "\n",
    "plt.plot([0, 1], [0, 1], 'k--', lw=lw)\n",
    "#plt.xlabel('False Positive Rate')\n",
    "#plt.ylabel('True Positive Rate')\n",
    "#plt.title('Some extension of Receiver operating characteristic to multi-class')\n",
    "plt.legend(loc=\"lower right\",fontsize=\"12\")\n",
    "fig2 = plt.gcf()\n",
    "plt.show()\n",
    "fig2.savefig(\"ROCAUC_HASILLRCN3lyr.jpg\",dpi=600)"
   ]
  },
  {
   "cell_type": "code",
   "execution_count": null,
   "id": "f0da3e6c",
   "metadata": {},
   "outputs": [],
   "source": []
  }
 ],
 "metadata": {
  "kernelspec": {
   "display_name": "Python 3 (ipykernel)",
   "language": "python",
   "name": "python3"
  },
  "language_info": {
   "codemirror_mode": {
    "name": "ipython",
    "version": 3
   },
   "file_extension": ".py",
   "mimetype": "text/x-python",
   "name": "python",
   "nbconvert_exporter": "python",
   "pygments_lexer": "ipython3",
   "version": "3.9.15"
  }
 },
 "nbformat": 4,
 "nbformat_minor": 5
}
