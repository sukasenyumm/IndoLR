{
 "cells": [
  {
   "cell_type": "code",
   "execution_count": 1,
   "metadata": {
    "execution": {
     "iopub.execute_input": "2022-12-15T02:31:35.711433Z",
     "iopub.status.busy": "2022-12-15T02:31:35.710278Z",
     "iopub.status.idle": "2022-12-15T02:31:35.771395Z",
     "shell.execute_reply": "2022-12-15T02:31:35.770163Z",
     "shell.execute_reply.started": "2022-12-15T02:31:35.711344Z"
    },
    "id": "NVtECQmivObE"
   },
   "outputs": [],
   "source": [
    "# Import the required libraries.\n",
    "import os\n",
    "import cv2\n",
    "#import pafy\n",
    "import math\n",
    "import random\n",
    "import numpy as np\n",
    "import datetime as dt\n",
    "import tensorflow as tf\n",
    "from collections import deque\n",
    "import matplotlib.pyplot as plt\n",
    "\n",
    "#from moviepy.editor import *\n",
    "%matplotlib inline\n",
    "\n",
    "from sklearn.model_selection import train_test_split\n",
    "\n",
    "from tensorflow.keras.layers import *\n",
    "from tensorflow.keras.models import Sequential\n",
    "from tensorflow.keras.utils import to_categorical\n",
    "from tensorflow.keras.callbacks import EarlyStopping\n",
    "from tensorflow.keras.utils import plot_model\n",
    "\n",
    "import os\n",
    "os.environ['PYTHONHASHSEED'] = '0'\n",
    "os.environ['CUDA_VISIBLE_DEVICES'] = ''"
   ]
  },
  {
   "cell_type": "code",
   "execution_count": 2,
   "metadata": {
    "execution": {
     "iopub.execute_input": "2022-12-15T02:31:35.773492Z",
     "iopub.status.busy": "2022-12-15T02:31:35.773122Z",
     "iopub.status.idle": "2022-12-15T02:31:35.909218Z",
     "shell.execute_reply": "2022-12-15T02:31:35.907942Z",
     "shell.execute_reply.started": "2022-12-15T02:31:35.773456Z"
    },
    "id": "kQaMvhOrvObF"
   },
   "outputs": [],
   "source": [
    "tf.keras.backend.clear_session()\n",
    "seed_constant = 27\n",
    "np.random.seed(seed_constant)\n",
    "tf.random.set_seed(seed_constant)\n",
    "random.seed(seed_constant)\n",
    "tf.keras.utils.set_random_seed(seed_constant)"
   ]
  },
  {
   "cell_type": "code",
   "execution_count": 3,
   "metadata": {
    "colab": {
     "base_uri": "https://localhost:8080/",
     "height": 52
    },
    "execution": {
     "iopub.execute_input": "2022-12-15T02:31:35.927720Z",
     "iopub.status.busy": "2022-12-15T02:31:35.924652Z",
     "iopub.status.idle": "2022-12-15T02:31:36.987205Z",
     "shell.execute_reply": "2022-12-15T02:31:36.986303Z",
     "shell.execute_reply.started": "2022-12-15T02:31:35.927679Z"
    },
    "id": "OvQT7h_qvObG",
    "outputId": "7dc8e13c-24ee-4b2c-89ad-982de0b0c454"
   },
   "outputs": [
    {
     "name": "stdout",
     "output_type": "stream",
     "text": [
      "['1outfinal', '2outfinal', '3outfinal', '4outfinal']\n"
     ]
    },
    {
     "data": {
      "text/plain": [
       "<Figure size 2000x2000 with 0 Axes>"
      ]
     },
     "metadata": {},
     "output_type": "display_data"
    }
   ],
   "source": [
    "# Create a Matplotlib figure and specify the size of the figure.\n",
    "plt.figure(figsize = (20, 20))\n",
    "\n",
    "# Get the names of all classes/categories in UCF50.\n",
    "TRAIN_DIR = r'train'\n",
    "VAL_DIR = r'val'\n",
    "TEST_DIR = r'test'\n",
    "all_classes_names = sorted(os.listdir(TRAIN_DIR))\n",
    "print(all_classes_names)\n"
   ]
  },
  {
   "cell_type": "code",
   "execution_count": 4,
   "metadata": {
    "execution": {
     "iopub.execute_input": "2022-12-15T02:31:36.989789Z",
     "iopub.status.busy": "2022-12-15T02:31:36.988733Z",
     "iopub.status.idle": "2022-12-15T02:31:36.995136Z",
     "shell.execute_reply": "2022-12-15T02:31:36.994097Z",
     "shell.execute_reply.started": "2022-12-15T02:31:36.989750Z"
    },
    "id": "BOxlW0cKvObI"
   },
   "outputs": [],
   "source": [
    "# Specify the height and width to which each video frame will be resized in our dataset.\n",
    "IMAGE_HEIGHT , IMAGE_WIDTH = 80, 80\n",
    "\n",
    "# Specify the directory containing the UCF50 dataset. \n",
    "#DATASET_DIR = \"/newdatasetMediapipe/kata/\"\n",
    "\n",
    "# Specify the list containing the names of the classes used for training. Feel free to choose any set of classes.\n",
    "CLASSES_LIST =all_classes_names\n",
    "#CLASSES_LIST = ['2 Tolong', '7 permisi', '1 Maaf']"
   ]
  },
  {
   "cell_type": "code",
   "execution_count": 5,
   "metadata": {
    "colab": {
     "base_uri": "https://localhost:8080/"
    },
    "execution": {
     "iopub.execute_input": "2022-12-15T02:31:47.262041Z",
     "iopub.status.busy": "2022-12-15T02:31:47.261601Z",
     "iopub.status.idle": "2022-12-15T02:31:47.271196Z",
     "shell.execute_reply": "2022-12-15T02:31:47.270171Z",
     "shell.execute_reply.started": "2022-12-15T02:31:47.262006Z"
    },
    "id": "cm-K7_u7vObJ",
    "outputId": "48634b85-9062-41d5-ec0e-55da6c2c8340"
   },
   "outputs": [
    {
     "name": "stdout",
     "output_type": "stream",
     "text": [
      "40\n"
     ]
    }
   ],
   "source": [
    "SEQUENCE_LENGTH = 40#getAverageSequenceLength()\n",
    "print(SEQUENCE_LENGTH)"
   ]
  },
  {
   "cell_type": "code",
   "execution_count": 6,
   "metadata": {},
   "outputs": [],
   "source": [
    "def getDatafromNpz(file):\n",
    "    return file['data'],file['label']\n",
    "dtrain = np.load('feature_train.npz')\n",
    "dval = np.load('feature_val.npz')\n",
    "dtest = np.load('feature_test.npz')\n",
    "\n",
    "features_train,labels_train = getDatafromNpz(dtrain)\n",
    "features_test,labels_test = getDatafromNpz(dtest)\n",
    "features_val,labels_val = getDatafromNpz(dval)"
   ]
  },
  {
   "cell_type": "code",
   "execution_count": 7,
   "metadata": {
    "execution": {
     "iopub.execute_input": "2022-12-06T00:27:57.266674Z",
     "iopub.status.busy": "2022-12-06T00:27:57.266303Z",
     "iopub.status.idle": "2022-12-06T00:27:57.277769Z",
     "shell.execute_reply": "2022-12-06T00:27:57.276881Z",
     "shell.execute_reply.started": "2022-12-06T00:27:57.266636Z"
    },
    "id": "haMvCy4RvObP"
   },
   "outputs": [],
   "source": [
    "def create_convlstm_model():\n",
    "    '''\n",
    "    This function will construct the required convlstm model.\n",
    "    Returns:\n",
    "        model: It is the required constructed convlstm model.\n",
    "    '''\n",
    "\n",
    "    # We will use a Sequential model for model construction\n",
    "    model = Sequential()\n",
    "\n",
    "    # Define the Model Architecture.\n",
    "    ########################################################################################################################\n",
    "    \n",
    "    model.add(ConvLSTM2D(filters = 8, kernel_size = (3, 3), activation = 'tanh',data_format = \"channels_last\", dropout=0.3,\n",
    "                          return_sequences=True, input_shape = (SEQUENCE_LENGTH,\n",
    "                                                                                      IMAGE_HEIGHT, IMAGE_WIDTH, 3)))\n",
    "    \n",
    "    model.add(MaxPooling3D(pool_size=(2, 2, 2), padding='same', data_format='channels_last'))\n",
    "    #model.add(TimeDistributed(Dropout(0.3)))\n",
    "    \n",
    "    model.add(ConvLSTM2D(filters = 16, kernel_size = (3, 3), activation = 'tanh', data_format = \"channels_last\", dropout=0.3,\n",
    "                          return_sequences=True))\n",
    "    \n",
    "    model.add(MaxPooling3D(pool_size=(2, 2, 2), padding='same', data_format='channels_last'))\n",
    "    #model.add(TimeDistributed(Dropout(0.3)))\n",
    "    \n",
    "    #model.add(ConvLSTM2D(filters = 16, kernel_size = (3, 3), activation = 'tanh', data_format = \"channels_last\",\n",
    "    #                     dropout=0.2, return_sequences=True))\n",
    "    \n",
    "    #model.add(MaxPooling3D(pool_size=(1, 2, 2), padding='same', data_format='channels_last'))\n",
    "    #model.add(TimeDistributed(Dropout(0.2)))\n",
    "    \n",
    "    \n",
    "    model.add(Flatten()) \n",
    "    \n",
    "    model.add(Dense(len(CLASSES_LIST), activation = \"softmax\"))\n",
    "    \n",
    "    ########################################################################################################################\n",
    "     \n",
    "    # Display the models summary.\n",
    "    model.summary()\n",
    "    \n",
    "    # Return the constructed convlstm model.\n",
    "    return model"
   ]
  },
  {
   "cell_type": "code",
   "execution_count": null,
   "metadata": {
    "execution": {
     "iopub.execute_input": "2022-12-05T00:33:41.669742Z",
     "iopub.status.busy": "2022-12-05T00:33:41.669220Z",
     "iopub.status.idle": "2022-12-05T00:33:41.683971Z",
     "shell.execute_reply": "2022-12-05T00:33:41.682815Z",
     "shell.execute_reply.started": "2022-12-05T00:33:41.669698Z"
    },
    "id": "MVISRIdAvObQ"
   },
   "outputs": [],
   "source": [
    "def create_convlstm_model():\n",
    "    #tf.keras.backend.clear_session()\n",
    "    '''\n",
    "    This function will construct the required LRCN model.\n",
    "    Returns:\n",
    "        model: It is the required constructed LRCN model.\n",
    "    '''\n",
    "    IMAGE_SIZE = (IMAGE_HEIGHT, IMAGE_WIDTH) + (3,)\n",
    "    base_model = tf.keras.applications.MobileNetV2(weights='imagenet',  include_top=False)\n",
    "    #base_model.trainable = False\n",
    "    # the 4 last layers (my own choice, up to you)\n",
    "    for layer in base_model.layers:\n",
    "        layer.trainable = False\n",
    "    \n",
    "    inputs = Input(shape=(SEQUENCE_LENGTH, IMAGE_HEIGHT, IMAGE_WIDTH, 3))\n",
    "    x = TimeDistributed(base_model)(inputs)\n",
    "    #x = TimeDistributed(Dense(192))(x)\n",
    "\n",
    "    #the ouput of the model is [1, 1, 2048], need to squeeze\n",
    "    #x = Lambda(lambda x: tf.squeeze(tf.squeeze(x,2),2))(x)\n",
    "    x = TimeDistributed(Flatten())(x)\n",
    "    x = Bidirectional(LSTM(16, return_sequences=False))(x)\n",
    "    #x = BatchNormalization()(x)\n",
    "    \"\"\"x = LSTM(100, activation='relu', return_sequences=True)(x)\n",
    "    x = Dense(100, activation = 'relu')(x)\n",
    "    x = Dropout(0.25)(x)\n",
    "    x = LSTM(100, activation='relu', return_sequences=False)(x)\n",
    "    x = Dense(50, activation = 'relu')(x)\"\"\"\n",
    "    \n",
    "    outputs = Dense(len(CLASSES_LIST), activation = 'softmax')(x)\n",
    "    model = tf.keras.Model(inputs, outputs)\n",
    "\n",
    "    # Display the models summary.\n",
    "    model.summary()\n",
    "    \n",
    "    # Return the constructed LRCN model.\n",
    "    return model"
   ]
  },
  {
   "cell_type": "code",
   "execution_count": null,
   "metadata": {
    "id": "FXdVjTe0vObQ"
   },
   "outputs": [],
   "source": [
    "#The best\n",
    "def create_convlstm_model():\n",
    "    '''\n",
    "    This function will construct the required LRCN model.\n",
    "    Returns:\n",
    "        model: It is the required constructed LRCN model.\n",
    "    '''\n",
    "\n",
    "    # We will use a Sequential model for model construction.\n",
    "    model = Sequential()\n",
    "    \n",
    "    # Define the Model Architecture.\n",
    "    ########################################################################################################################\n",
    "\n",
    "    model.add(TimeDistributed(Conv2D(16, (3, 3), padding='same',activation = 'relu'),\n",
    "                              input_shape = (SEQUENCE_LENGTH, IMAGE_HEIGHT, IMAGE_WIDTH, 3)))\n",
    "    model.add(TimeDistributed(MaxPooling2D((2, 2)))) \n",
    "    model.add(Dropout(0.3))\n",
    "    \n",
    "    model.add(TimeDistributed(Conv2D(\n",
    "        32, (3, 3), padding='same',activation = 'relu')))\n",
    "    model.add(TimeDistributed(MaxPooling2D((2, 2))))\n",
    "    model.add(Dropout(0.3))\n",
    "    \n",
    "    #model.add(TimeDistributed(Conv2D(64, (3, 3), padding='same',activation = 'relu')))\n",
    "    #model.add(TimeDistributed(MaxPooling2D((2, 2))))\n",
    "    #model.add(Dropout(0.3))\n",
    "    \n",
    "    #model.add(TimeDistributed(Conv2D(64, (3, 3), padding='same',activation = 'relu')))\n",
    "    #model.add(TimeDistributed(MaxPooling2D((2, 2))))\n",
    "    #model.add(TimeDistributed(Dropout(0.25)))\n",
    "                                      \n",
    "    model.add(TimeDistributed(Flatten()))#GOAP\n",
    "    #model.add(Dropout(0.4))                               \n",
    "    model.add(LSTM(64, return_sequences=False))#32\n",
    "    #model.add(BatchNormalization())\n",
    "    model.add(Dropout(0.3))\n",
    "                                      \n",
    "    model.add(Dense(len(CLASSES_LIST), activation = 'softmax'))\n",
    "\n",
    "    ########################################################################################################################\n",
    "\n",
    "    # Display the models summary.\n",
    "    model.summary()\n",
    "    \n",
    "    # Return the constructed LRCN model.\n",
    "    return model"
   ]
  },
  {
   "cell_type": "code",
   "execution_count": 8,
   "metadata": {
    "colab": {
     "base_uri": "https://localhost:8080/"
    },
    "id": "ltEwP9GQvObR",
    "outputId": "48e666a7-db70-4e03-bca4-53cf70870acf"
   },
   "outputs": [
    {
     "name": "stdout",
     "output_type": "stream",
     "text": [
      "Model: \"sequential\"\n",
      "_________________________________________________________________\n",
      " Layer (type)                Output Shape              Param #   \n",
      "=================================================================\n",
      " conv_lstm2d (ConvLSTM2D)    (None, 40, 78, 78, 8)     3200      \n",
      "                                                                 \n",
      " max_pooling3d (MaxPooling3D  (None, 20, 39, 39, 8)    0         \n",
      " )                                                               \n",
      "                                                                 \n",
      " conv_lstm2d_1 (ConvLSTM2D)  (None, 20, 37, 37, 16)    13888     \n",
      "                                                                 \n",
      " max_pooling3d_1 (MaxPooling  (None, 10, 19, 19, 16)   0         \n",
      " 3D)                                                             \n",
      "                                                                 \n",
      " flatten (Flatten)           (None, 57760)             0         \n",
      "                                                                 \n",
      " dense (Dense)               (None, 4)                 231044    \n",
      "                                                                 \n",
      "=================================================================\n",
      "Total params: 248,132\n",
      "Trainable params: 248,132\n",
      "Non-trainable params: 0\n",
      "_________________________________________________________________\n",
      "Model Created Successfully!\n"
     ]
    }
   ],
   "source": [
    "# Construct the required convlstm model.\n",
    "convlstm_model = create_convlstm_model()\n",
    "\n",
    "# Display the success message. \n",
    "print(\"Model Created Successfully!\")"
   ]
  },
  {
   "cell_type": "code",
   "execution_count": null,
   "metadata": {
    "colab": {
     "base_uri": "https://localhost:8080/"
    },
    "id": "bvulVOJxvObS",
    "outputId": "2f8dd3bb-a5df-43fd-b2b3-5af36cd92700",
    "scrolled": true
   },
   "outputs": [],
   "source": [
    "from tensorflow.keras.callbacks import ModelCheckpoint\n",
    "from tensorflow.keras.callbacks import Callback\n",
    "\n",
    "from timeit import default_timer as timer\n",
    "\n",
    "class TimingCallback(Callback):\n",
    "    def __init__(self, logs={}):\n",
    "        self.logs=[]\n",
    "    def on_epoch_begin(self, epoch, logs={}):\n",
    "        self.starttime = timer()\n",
    "    def on_epoch_end(self, epoch, logs={}):\n",
    "        self.logs.append(timer()-self.starttime)\n",
    "\n",
    "cb = TimingCallback()\n",
    "\n",
    "model_ckpt = ModelCheckpoint('MyNet.h5',monitor='val_accuracy', verbose=1,save_best_only=True )\n",
    "# Compile the model and specify loss function, optimizer and metrics values to the model\n",
    "adam=tf.keras.optimizers.Adam(learning_rate=0.0005)\n",
    "convlstm_model.compile(loss = 'categorical_crossentropy',optimizer=adam, metrics = [\"accuracy\"])\n",
    "#tf.keras.optimizers.Adam(lr=0.0005)\n",
    "# Start training the model.\n",
    "convlstm_model_training_history = convlstm_model.fit(x = features_train, y = labels_train, epochs = 100, batch_size = 4,\n",
    "                                                     validation_data=(features_val, labels_val),\n",
    "                                                     callbacks = [cb,model_ckpt])\n",
    "                                                     #callbacks = [TerminateOnBaseline(monitor='val_accuracy', baseline=0.96)])"
   ]
  },
  {
   "cell_type": "code",
   "execution_count": null,
   "metadata": {
    "colab": {
     "base_uri": "https://localhost:8080/"
    },
    "id": "pCO_BvfKvObS",
    "outputId": "ed631a9c-3837-4e6f-f62b-af30671bc9dd",
    "scrolled": true
   },
   "outputs": [],
   "source": [
    "print(cb.logs)\n",
    "print(sum(cb.logs))\n",
    "np.save('my_history.npy',convlstm_model_training_history.history)"
   ]
  },
  {
   "cell_type": "code",
   "execution_count": null,
   "metadata": {},
   "outputs": [],
   "source": [
    "history=np.load('my_history.npy',allow_pickle='TRUE').item()"
   ]
  },
  {
   "cell_type": "code",
   "execution_count": null,
   "metadata": {},
   "outputs": [],
   "source": [
    "convlstm_model_training_history = history"
   ]
  },
  {
   "cell_type": "code",
   "execution_count": null,
   "metadata": {
    "id": "R2dUS7jKvObT"
   },
   "outputs": [],
   "source": [
    "def plot_metric(model_training_history, metric_name_1, metric_name_2, plot_name):\n",
    "    '''\n",
    "    This function will plot the metrics passed to it in a graph.\n",
    "    Args:\n",
    "        model_training_history: A history object containing a record of training and validation \n",
    "                                loss values and metrics values at successive epochs\n",
    "        metric_name_1:          The name of the first metric that needs to be plotted in the graph.\n",
    "        metric_name_2:          The name of the second metric that needs to be plotted in the graph.\n",
    "        plot_name:              The title of the graph.\n",
    "    '''\n",
    "    \n",
    "    # Get metric values using metric names as identifiers.\n",
    "    metric_value_1 = model_training_history[metric_name_1]\n",
    "    metric_value_2 = model_training_history[metric_name_2]\n",
    "    \n",
    "    # Construct a range object which will be used as x-axis (horizontal plane) of the graph.\n",
    "    epochs = range(len(metric_value_1))\n",
    "\n",
    "    # Plot the Graph.\n",
    "    plt.plot(epochs, metric_value_1, 'blue', label = metric_name_1)\n",
    "    plt.plot(epochs, metric_value_2, 'red', label = metric_name_2)\n",
    "\n",
    "    # Add title to the plot.\n",
    "    plt.title(str(plot_name))\n",
    "\n",
    "    # Add legend to the plot.\n",
    "    plt.legend()\n",
    "    \n",
    "    plt.savefig(\"output\"+metric_name_1+\".jpg\")"
   ]
  },
  {
   "cell_type": "code",
   "execution_count": null,
   "metadata": {
    "colab": {
     "base_uri": "https://localhost:8080/",
     "height": 281
    },
    "id": "ehmlRBMTvObU",
    "outputId": "020a0203-0c43-4259-eade-2112c546598a"
   },
   "outputs": [],
   "source": [
    "# Visualize the training and validation loss metrices.\n",
    "plot_metric(convlstm_model_training_history, 'loss', 'val_loss', 'Total Loss vs Total Validation Loss')"
   ]
  },
  {
   "cell_type": "code",
   "execution_count": null,
   "metadata": {
    "colab": {
     "base_uri": "https://localhost:8080/",
     "height": 281
    },
    "id": "zeIlmA3JvObU",
    "outputId": "cdfb9923-9877-434a-89ad-f99545444c48"
   },
   "outputs": [],
   "source": [
    "# Visualize the training and validation accuracy metrices.\n",
    "plot_metric(convlstm_model_training_history, 'accuracy', 'val_accuracy', 'Total Accuracy vs Total Validation Accuracy') "
   ]
  },
  {
   "cell_type": "code",
   "execution_count": 9,
   "metadata": {},
   "outputs": [
    {
     "name": "stdout",
     "output_type": "stream",
     "text": [
      "5/5 [==============================] - 4s 137ms/step - loss: 0.3954 - accuracy: 0.9062\n"
     ]
    }
   ],
   "source": [
    "# Evaluate the trained model.\n",
    "from keras.models import load_model\n",
    "convlstm_model = load_model(\"MyNet.h5\")\n",
    "model_evaluation_history = convlstm_model.evaluate(features_test, labels_test)\n"
   ]
  },
  {
   "cell_type": "code",
   "execution_count": 10,
   "metadata": {},
   "outputs": [],
   "source": [
    "# Get the loss and accuracy from model_evaluation_history.\n",
    "model_evaluation_loss, model_evaluation_accuracy = model_evaluation_history\n",
    "\n",
    "# Define the string date format.\n",
    "# Get the current Date and Time in a DateTime Object.\n",
    "# Convert the DateTime object to string according to the style mentioned in date_time_format string.\n",
    "date_time_format = '%Y_%m_%d__%H_%M_%S'\n",
    "current_date_time_dt = dt.datetime.now()\n",
    "current_date_time_string = dt.datetime.strftime(current_date_time_dt, date_time_format)\n",
    "\n",
    "# Define a useful name for our model to make it easy for us while navigating through multiple saved models.\n",
    "model_file_name = f'convlstm_model___Date_Time_{current_date_time_string}___Loss_{model_evaluation_loss}___Accuracy_{model_evaluation_accuracy}.h5'\n",
    "\n",
    "# Save your Model.\n",
    "convlstm_model.save(model_file_name)"
   ]
  },
  {
   "cell_type": "code",
   "execution_count": 11,
   "metadata": {
    "colab": {
     "base_uri": "https://localhost:8080/"
    },
    "id": "4bvV84cbvObV",
    "outputId": "104dc244-6c14-455c-ea80-80d6d51672f9"
   },
   "outputs": [
    {
     "name": "stdout",
     "output_type": "stream",
     "text": [
      "5/5 [==============================] - 1s 135ms/step\n",
      "1\n",
      "3\n",
      "[[40  0  0  0]\n",
      " [ 0 32  4  4]\n",
      " [ 1  3 36  0]\n",
      " [ 0  2  1 37]]\n"
     ]
    }
   ],
   "source": [
    "predict_x=convlstm_model.predict(features_test) \n",
    "rounded_predictions=np.argmax(predict_x,axis=1)\n",
    "\n",
    "print(rounded_predictions[1])\n",
    "\n",
    "rounded_labels=np.argmax(labels_test, axis=1)\n",
    "print(rounded_labels[1])\n",
    "from sklearn.metrics import confusion_matrix\n",
    "cm = confusion_matrix(rounded_labels, rounded_predictions)\n",
    "print(cm)\n"
   ]
  },
  {
   "cell_type": "code",
   "execution_count": 12,
   "metadata": {
    "colab": {
     "base_uri": "https://localhost:8080/"
    },
    "id": "AkdqBgJZvObV",
    "outputId": "c44eecc7-8b78-4c92-a6d8-e1bd4bd6d361",
    "scrolled": false
   },
   "outputs": [
    {
     "name": "stdout",
     "output_type": "stream",
     "text": [
      "5/5 [==============================] - 1s 137ms/step\n",
      "              precision    recall  f1-score   support\n",
      "\n",
      "           0       0.98      1.00      0.99        40\n",
      "           1       0.86      0.80      0.83        40\n",
      "           2       0.88      0.90      0.89        40\n",
      "           3       0.90      0.93      0.91        40\n",
      "\n",
      "    accuracy                           0.91       160\n",
      "   macro avg       0.91      0.91      0.91       160\n",
      "weighted avg       0.91      0.91      0.91       160\n",
      "\n"
     ]
    }
   ],
   "source": [
    "from sklearn.metrics import classification_report\n",
    "# predict \n",
    "predictions = convlstm_model.predict(features_test)#, batch_size = 4)\n",
    "pred = np.argmax(predictions, axis=1)\n",
    "# label\n",
    "rounded_labels=np.argmax(labels_test, axis=1)\n",
    "\n",
    "print(classification_report(rounded_labels, pred))\n",
    "# precission “Berapa persen mahasiswa yang benar DO dari keseluruhan mahasiswa yang diprediksi DO?”\n",
    "# recall \"Berapa persen mahasiswa yang diprediksi DO dibandingkan keseluruhan mahasiswa yang sebenarnya DO?\""
   ]
  },
  {
   "cell_type": "code",
   "execution_count": null,
   "metadata": {},
   "outputs": [],
   "source": []
  },
  {
   "cell_type": "code",
   "execution_count": null,
   "metadata": {
    "id": "Ff-_bb7TvObW"
   },
   "outputs": [],
   "source": []
  },
  {
   "cell_type": "code",
   "execution_count": null,
   "metadata": {
    "id": "s49P0UjVvObX"
   },
   "outputs": [],
   "source": []
  },
  {
   "cell_type": "code",
   "execution_count": null,
   "metadata": {
    "id": "x3cbsrQnvObX"
   },
   "outputs": [],
   "source": []
  }
 ],
 "metadata": {
  "accelerator": "GPU",
  "colab": {
   "machine_shape": "hm",
   "provenance": []
  },
  "gpuClass": "standard",
  "kernelspec": {
   "display_name": "Python 3 (ipykernel)",
   "language": "python",
   "name": "python3"
  },
  "language_info": {
   "codemirror_mode": {
    "name": "ipython",
    "version": 3
   },
   "file_extension": ".py",
   "mimetype": "text/x-python",
   "name": "python",
   "nbconvert_exporter": "python",
   "pygments_lexer": "ipython3",
   "version": "3.9.15"
  }
 },
 "nbformat": 4,
 "nbformat_minor": 1
}
