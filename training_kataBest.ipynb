{
 "cells": [
  {
   "cell_type": "code",
   "execution_count": 1,
   "metadata": {
    "execution": {
     "iopub.execute_input": "2022-12-15T02:31:35.711433Z",
     "iopub.status.busy": "2022-12-15T02:31:35.710278Z",
     "iopub.status.idle": "2022-12-15T02:31:35.771395Z",
     "shell.execute_reply": "2022-12-15T02:31:35.770163Z",
     "shell.execute_reply.started": "2022-12-15T02:31:35.711344Z"
    },
    "id": "NVtECQmivObE"
   },
   "outputs": [],
   "source": [
    "# Import the required libraries.\n",
    "import os\n",
    "import cv2\n",
    "#import pafy\n",
    "import math\n",
    "import random\n",
    "import numpy as np\n",
    "import datetime as dt\n",
    "import tensorflow as tf\n",
    "from collections import deque\n",
    "import matplotlib.pyplot as plt\n",
    "\n",
    "#from moviepy.editor import *\n",
    "%matplotlib inline\n",
    "\n",
    "from sklearn.model_selection import train_test_split\n",
    "\n",
    "from tensorflow.keras.layers import *\n",
    "from tensorflow.keras.models import Sequential\n",
    "from tensorflow.keras.utils import to_categorical\n",
    "from tensorflow.keras.callbacks import EarlyStopping\n",
    "from tensorflow.keras.utils import plot_model\n",
    "\n",
    "import os\n",
    "os.environ['PYTHONHASHSEED'] = '0'\n",
    "os.environ['CUDA_VISIBLE_DEVICES'] = ''"
   ]
  },
  {
   "cell_type": "code",
   "execution_count": 2,
   "metadata": {
    "execution": {
     "iopub.execute_input": "2022-12-15T02:31:35.773492Z",
     "iopub.status.busy": "2022-12-15T02:31:35.773122Z",
     "iopub.status.idle": "2022-12-15T02:31:35.909218Z",
     "shell.execute_reply": "2022-12-15T02:31:35.907942Z",
     "shell.execute_reply.started": "2022-12-15T02:31:35.773456Z"
    },
    "id": "kQaMvhOrvObF"
   },
   "outputs": [],
   "source": [
    "tf.keras.backend.clear_session()\n",
    "seed_constant = 27\n",
    "np.random.seed(seed_constant)\n",
    "tf.random.set_seed(seed_constant)\n",
    "random.seed(seed_constant)\n",
    "tf.keras.utils.set_random_seed(seed_constant)"
   ]
  },
  {
   "cell_type": "code",
   "execution_count": 3,
   "metadata": {
    "colab": {
     "base_uri": "https://localhost:8080/",
     "height": 52
    },
    "execution": {
     "iopub.execute_input": "2022-12-15T02:31:35.927720Z",
     "iopub.status.busy": "2022-12-15T02:31:35.924652Z",
     "iopub.status.idle": "2022-12-15T02:31:36.987205Z",
     "shell.execute_reply": "2022-12-15T02:31:36.986303Z",
     "shell.execute_reply.started": "2022-12-15T02:31:35.927679Z"
    },
    "id": "OvQT7h_qvObG",
    "outputId": "7dc8e13c-24ee-4b2c-89ad-982de0b0c454"
   },
   "outputs": [
    {
     "name": "stdout",
     "output_type": "stream",
     "text": [
      "['10outfinal', '1outfinal', '2outfinal', '3outfinal', '4outfinal', '5outfinal', '6outfinal', '7outfinal', '8outfinal', '9outfinal']\n"
     ]
    },
    {
     "data": {
      "text/plain": [
       "<Figure size 2000x2000 with 0 Axes>"
      ]
     },
     "metadata": {},
     "output_type": "display_data"
    }
   ],
   "source": [
    "# Create a Matplotlib figure and specify the size of the figure.\n",
    "plt.figure(figsize = (20, 20))\n",
    "\n",
    "# Get the names of all classes/categories in UCF50.\n",
    "TRAIN_DIR = r'train'\n",
    "VAL_DIR = r'val'\n",
    "TEST_DIR = r'test'\n",
    "all_classes_names = sorted(os.listdir(TRAIN_DIR))\n",
    "print(all_classes_names)\n"
   ]
  },
  {
   "cell_type": "code",
   "execution_count": 4,
   "metadata": {
    "execution": {
     "iopub.execute_input": "2022-12-15T02:31:36.989789Z",
     "iopub.status.busy": "2022-12-15T02:31:36.988733Z",
     "iopub.status.idle": "2022-12-15T02:31:36.995136Z",
     "shell.execute_reply": "2022-12-15T02:31:36.994097Z",
     "shell.execute_reply.started": "2022-12-15T02:31:36.989750Z"
    },
    "id": "BOxlW0cKvObI"
   },
   "outputs": [],
   "source": [
    "# Specify the height and width to which each video frame will be resized in our dataset.\n",
    "IMAGE_HEIGHT , IMAGE_WIDTH = 80, 80\n",
    "\n",
    "# Specify the directory containing the UCF50 dataset. \n",
    "#DATASET_DIR = \"/newdatasetMediapipe/kata/\"\n",
    "\n",
    "# Specify the list containing the names of the classes used for training. Feel free to choose any set of classes.\n",
    "CLASSES_LIST =all_classes_names\n",
    "#CLASSES_LIST = ['2 Tolong', '7 permisi', '1 Maaf']"
   ]
  },
  {
   "cell_type": "code",
   "execution_count": 5,
   "metadata": {
    "colab": {
     "base_uri": "https://localhost:8080/"
    },
    "execution": {
     "iopub.execute_input": "2022-12-15T02:31:47.262041Z",
     "iopub.status.busy": "2022-12-15T02:31:47.261601Z",
     "iopub.status.idle": "2022-12-15T02:31:47.271196Z",
     "shell.execute_reply": "2022-12-15T02:31:47.270171Z",
     "shell.execute_reply.started": "2022-12-15T02:31:47.262006Z"
    },
    "id": "cm-K7_u7vObJ",
    "outputId": "48634b85-9062-41d5-ec0e-55da6c2c8340"
   },
   "outputs": [
    {
     "name": "stdout",
     "output_type": "stream",
     "text": [
      "30\n"
     ]
    }
   ],
   "source": [
    "SEQUENCE_LENGTH = 30#getAverageSequenceLength()\n",
    "print(SEQUENCE_LENGTH)"
   ]
  },
  {
   "cell_type": "code",
   "execution_count": 6,
   "metadata": {},
   "outputs": [],
   "source": [
    "def getDatafromNpz(file):\n",
    "    return file['data'],file['label']\n",
    "dtrain = np.load('feature_train.npz')\n",
    "dval = np.load('feature_val.npz')\n",
    "dtest = np.load('feature_test.npz')\n",
    "\n",
    "features_train,labels_train = getDatafromNpz(dtrain)\n",
    "features_test,labels_test = getDatafromNpz(dtest)\n",
    "features_val,labels_val = getDatafromNpz(dval)"
   ]
  },
  {
   "cell_type": "code",
   "execution_count": 7,
   "metadata": {
    "execution": {
     "iopub.execute_input": "2022-12-06T00:27:57.266674Z",
     "iopub.status.busy": "2022-12-06T00:27:57.266303Z",
     "iopub.status.idle": "2022-12-06T00:27:57.277769Z",
     "shell.execute_reply": "2022-12-06T00:27:57.276881Z",
     "shell.execute_reply.started": "2022-12-06T00:27:57.266636Z"
    },
    "id": "haMvCy4RvObP"
   },
   "outputs": [],
   "source": [
    "def create_convlstm_model():\n",
    "    '''\n",
    "    This function will construct the required convlstm model.\n",
    "    Returns:\n",
    "        model: It is the required constructed convlstm model.\n",
    "    '''\n",
    "\n",
    "    # We will use a Sequential model for model construction\n",
    "    model = Sequential()\n",
    "\n",
    "    # Define the Model Architecture.\n",
    "    ########################################################################################################################\n",
    "    \n",
    "    model.add(ConvLSTM2D(filters = 8, kernel_size = (3, 3), activation = 'tanh',data_format = \"channels_last\", dropout=0.3,\n",
    "                          return_sequences=True, input_shape = (SEQUENCE_LENGTH,\n",
    "                                                                                      IMAGE_HEIGHT, IMAGE_WIDTH, 3)))\n",
    "    \n",
    "    model.add(MaxPooling3D(pool_size=(2, 2, 2), padding='same', data_format='channels_last'))\n",
    "    #model.add(TimeDistributed(Dropout(0.3)))\n",
    "    \n",
    "    model.add(ConvLSTM2D(filters = 16, kernel_size = (3, 3), activation = 'tanh', data_format = \"channels_last\", dropout=0.3,\n",
    "                          return_sequences=True))\n",
    "    \n",
    "    model.add(MaxPooling3D(pool_size=(2, 2, 2), padding='same', data_format='channels_last'))\n",
    "    #model.add(TimeDistributed(Dropout(0.3)))\n",
    "    \n",
    "    #model.add(ConvLSTM2D(filters = 16, kernel_size = (3, 3), activation = 'tanh', data_format = \"channels_last\",\n",
    "    #                     dropout=0.2, return_sequences=True))\n",
    "    \n",
    "    #model.add(MaxPooling3D(pool_size=(1, 2, 2), padding='same', data_format='channels_last'))\n",
    "    #model.add(TimeDistributed(Dropout(0.2)))\n",
    "    \n",
    "    \n",
    "    model.add(Flatten()) \n",
    "    \n",
    "    model.add(Dense(len(CLASSES_LIST), activation = \"softmax\"))\n",
    "    \n",
    "    ########################################################################################################################\n",
    "     \n",
    "    # Display the models summary.\n",
    "    model.summary()\n",
    "    \n",
    "    # Return the constructed convlstm model.\n",
    "    return model"
   ]
  },
  {
   "cell_type": "code",
   "execution_count": null,
   "metadata": {
    "execution": {
     "iopub.execute_input": "2022-12-05T00:33:41.669742Z",
     "iopub.status.busy": "2022-12-05T00:33:41.669220Z",
     "iopub.status.idle": "2022-12-05T00:33:41.683971Z",
     "shell.execute_reply": "2022-12-05T00:33:41.682815Z",
     "shell.execute_reply.started": "2022-12-05T00:33:41.669698Z"
    },
    "id": "MVISRIdAvObQ"
   },
   "outputs": [],
   "source": [
    "def create_convlstm_model():\n",
    "    #tf.keras.backend.clear_session()\n",
    "    '''\n",
    "    This function will construct the required LRCN model.\n",
    "    Returns:\n",
    "        model: It is the required constructed LRCN model.\n",
    "    '''\n",
    "    IMAGE_SIZE = (IMAGE_HEIGHT, IMAGE_WIDTH) + (3,)\n",
    "    base_model = tf.keras.applications.MobileNetV2(weights='imagenet',  include_top=False)\n",
    "    #base_model.trainable = False\n",
    "    # the 4 last layers (my own choice, up to you)\n",
    "    for layer in base_model.layers:\n",
    "        layer.trainable = False\n",
    "    \n",
    "    inputs = Input(shape=(SEQUENCE_LENGTH, IMAGE_HEIGHT, IMAGE_WIDTH, 3))\n",
    "    x = TimeDistributed(base_model)(inputs)\n",
    "    #x = TimeDistributed(Dense(192))(x)\n",
    "\n",
    "    #the ouput of the model is [1, 1, 2048], need to squeeze\n",
    "    #x = Lambda(lambda x: tf.squeeze(tf.squeeze(x,2),2))(x)\n",
    "    x = TimeDistributed(Flatten())(x)\n",
    "    x = Bidirectional(LSTM(16, return_sequences=False))(x)\n",
    "    #x = BatchNormalization()(x)\n",
    "    \"\"\"x = LSTM(100, activation='relu', return_sequences=True)(x)\n",
    "    x = Dense(100, activation = 'relu')(x)\n",
    "    x = Dropout(0.25)(x)\n",
    "    x = LSTM(100, activation='relu', return_sequences=False)(x)\n",
    "    x = Dense(50, activation = 'relu')(x)\"\"\"\n",
    "    \n",
    "    outputs = Dense(len(CLASSES_LIST), activation = 'softmax')(x)\n",
    "    model = tf.keras.Model(inputs, outputs)\n",
    "\n",
    "    # Display the models summary.\n",
    "    model.summary()\n",
    "    \n",
    "    # Return the constructed LRCN model.\n",
    "    return model"
   ]
  },
  {
   "cell_type": "code",
   "execution_count": null,
   "metadata": {
    "id": "FXdVjTe0vObQ"
   },
   "outputs": [],
   "source": [
    "#The best\n",
    "def create_convlstm_model():\n",
    "    '''\n",
    "    This function will construct the required LRCN model.\n",
    "    Returns:\n",
    "        model: It is the required constructed LRCN model.\n",
    "    '''\n",
    "\n",
    "    # We will use a Sequential model for model construction.\n",
    "    model = Sequential()\n",
    "    \n",
    "    # Define the Model Architecture.\n",
    "    ########################################################################################################################\n",
    "\n",
    "    model.add(TimeDistributed(Conv2D(16, (3, 3), padding='same',activation = 'relu'),\n",
    "                              input_shape = (SEQUENCE_LENGTH, IMAGE_HEIGHT, IMAGE_WIDTH, 3)))\n",
    "    model.add(TimeDistributed(MaxPooling2D((2, 2)))) \n",
    "    model.add(Dropout(0.3))\n",
    "    \n",
    "    model.add(TimeDistributed(Conv2D(\n",
    "        32, (3, 3), padding='same',activation = 'relu')))\n",
    "    model.add(TimeDistributed(MaxPooling2D((2, 2))))\n",
    "    model.add(Dropout(0.3))\n",
    "    \n",
    "    #model.add(TimeDistributed(Conv2D(64, (3, 3), padding='same',activation = 'relu')))\n",
    "    #model.add(TimeDistributed(MaxPooling2D((2, 2))))\n",
    "    #model.add(Dropout(0.3))\n",
    "    \n",
    "    #model.add(TimeDistributed(Conv2D(64, (3, 3), padding='same',activation = 'relu')))\n",
    "    #model.add(TimeDistributed(MaxPooling2D((2, 2))))\n",
    "    #model.add(TimeDistributed(Dropout(0.25)))\n",
    "                                      \n",
    "    model.add(TimeDistributed(Flatten()))#GOAP\n",
    "    #model.add(Dropout(0.4))                               \n",
    "    model.add(LSTM(64, return_sequences=False))#32\n",
    "    #model.add(BatchNormalization())\n",
    "    model.add(Dropout(0.3))\n",
    "                                      \n",
    "    model.add(Dense(len(CLASSES_LIST), activation = 'softmax'))\n",
    "\n",
    "    ########################################################################################################################\n",
    "\n",
    "    # Display the models summary.\n",
    "    model.summary()\n",
    "    \n",
    "    # Return the constructed LRCN model.\n",
    "    return model"
   ]
  },
  {
   "cell_type": "code",
   "execution_count": 8,
   "metadata": {
    "colab": {
     "base_uri": "https://localhost:8080/"
    },
    "id": "ltEwP9GQvObR",
    "outputId": "48e666a7-db70-4e03-bca4-53cf70870acf"
   },
   "outputs": [
    {
     "name": "stdout",
     "output_type": "stream",
     "text": [
      "Model: \"sequential\"\n",
      "_________________________________________________________________\n",
      " Layer (type)                Output Shape              Param #   \n",
      "=================================================================\n",
      " conv_lstm2d (ConvLSTM2D)    (None, 30, 78, 78, 8)     3200      \n",
      "                                                                 \n",
      " max_pooling3d (MaxPooling3D  (None, 15, 39, 39, 8)    0         \n",
      " )                                                               \n",
      "                                                                 \n",
      " conv_lstm2d_1 (ConvLSTM2D)  (None, 15, 37, 37, 16)    13888     \n",
      "                                                                 \n",
      " max_pooling3d_1 (MaxPooling  (None, 8, 19, 19, 16)    0         \n",
      " 3D)                                                             \n",
      "                                                                 \n",
      " flatten (Flatten)           (None, 46208)             0         \n",
      "                                                                 \n",
      " dense (Dense)               (None, 10)                462090    \n",
      "                                                                 \n",
      "=================================================================\n",
      "Total params: 479,178\n",
      "Trainable params: 479,178\n",
      "Non-trainable params: 0\n",
      "_________________________________________________________________\n",
      "Model Created Successfully!\n"
     ]
    }
   ],
   "source": [
    "# Construct the required convlstm model.\n",
    "convlstm_model = create_convlstm_model()\n",
    "\n",
    "# Display the success message. \n",
    "print(\"Model Created Successfully!\")"
   ]
  },
  {
   "cell_type": "code",
   "execution_count": 9,
   "metadata": {
    "colab": {
     "base_uri": "https://localhost:8080/"
    },
    "id": "bvulVOJxvObS",
    "outputId": "2f8dd3bb-a5df-43fd-b2b3-5af36cd92700",
    "scrolled": true
   },
   "outputs": [
    {
     "name": "stdout",
     "output_type": "stream",
     "text": [
      "Epoch 1/100\n",
      "480/480 [==============================] - ETA: 0s - loss: 1.8716 - accuracy: 0.3271\n",
      "Epoch 1: val_accuracy improved from -inf to 0.49583, saving model to MyNet.h5\n",
      "480/480 [==============================] - 89s 166ms/step - loss: 1.8716 - accuracy: 0.3271 - val_loss: 1.3406 - val_accuracy: 0.4958\n",
      "Epoch 2/100\n",
      "480/480 [==============================] - ETA: 0s - loss: 0.7894 - accuracy: 0.7573\n",
      "Epoch 2: val_accuracy improved from 0.49583 to 0.76250, saving model to MyNet.h5\n",
      "480/480 [==============================] - 79s 166ms/step - loss: 0.7894 - accuracy: 0.7573 - val_loss: 0.7599 - val_accuracy: 0.7625\n",
      "Epoch 3/100\n",
      "480/480 [==============================] - ETA: 0s - loss: 0.4165 - accuracy: 0.8651\n",
      "Epoch 3: val_accuracy improved from 0.76250 to 0.85000, saving model to MyNet.h5\n",
      "480/480 [==============================] - 82s 171ms/step - loss: 0.4165 - accuracy: 0.8651 - val_loss: 0.5075 - val_accuracy: 0.8500\n",
      "Epoch 4/100\n",
      "480/480 [==============================] - ETA: 0s - loss: 0.2228 - accuracy: 0.9344\n",
      "Epoch 4: val_accuracy did not improve from 0.85000\n",
      "480/480 [==============================] - 82s 171ms/step - loss: 0.2228 - accuracy: 0.9344 - val_loss: 0.5677 - val_accuracy: 0.8417\n",
      "Epoch 5/100\n",
      "480/480 [==============================] - ETA: 0s - loss: 0.1628 - accuracy: 0.9490\n",
      "Epoch 5: val_accuracy did not improve from 0.85000\n",
      "480/480 [==============================] - 81s 170ms/step - loss: 0.1628 - accuracy: 0.9490 - val_loss: 0.6189 - val_accuracy: 0.8333\n",
      "Epoch 6/100\n",
      "480/480 [==============================] - ETA: 0s - loss: 0.1172 - accuracy: 0.9656\n",
      "Epoch 6: val_accuracy improved from 0.85000 to 0.89583, saving model to MyNet.h5\n",
      "480/480 [==============================] - 80s 167ms/step - loss: 0.1172 - accuracy: 0.9656 - val_loss: 0.4024 - val_accuracy: 0.8958\n",
      "Epoch 7/100\n",
      "480/480 [==============================] - ETA: 0s - loss: 0.1205 - accuracy: 0.9615\n",
      "Epoch 7: val_accuracy did not improve from 0.89583\n",
      "480/480 [==============================] - 81s 170ms/step - loss: 0.1205 - accuracy: 0.9615 - val_loss: 0.4861 - val_accuracy: 0.8625\n",
      "Epoch 8/100\n",
      "480/480 [==============================] - ETA: 0s - loss: 0.0878 - accuracy: 0.9693\n",
      "Epoch 8: val_accuracy did not improve from 0.89583\n",
      "480/480 [==============================] - 79s 166ms/step - loss: 0.0878 - accuracy: 0.9693 - val_loss: 0.5227 - val_accuracy: 0.8708\n",
      "Epoch 9/100\n",
      "480/480 [==============================] - ETA: 0s - loss: 0.1057 - accuracy: 0.9682\n",
      "Epoch 9: val_accuracy improved from 0.89583 to 0.90417, saving model to MyNet.h5\n",
      "480/480 [==============================] - 81s 168ms/step - loss: 0.1057 - accuracy: 0.9682 - val_loss: 0.4743 - val_accuracy: 0.9042\n",
      "Epoch 10/100\n",
      "480/480 [==============================] - ETA: 0s - loss: 0.0649 - accuracy: 0.9812\n",
      "Epoch 10: val_accuracy improved from 0.90417 to 0.90833, saving model to MyNet.h5\n",
      "480/480 [==============================] - 81s 169ms/step - loss: 0.0649 - accuracy: 0.9812 - val_loss: 0.3270 - val_accuracy: 0.9083\n",
      "Epoch 11/100\n",
      "480/480 [==============================] - ETA: 0s - loss: 0.0577 - accuracy: 0.9818\n",
      "Epoch 11: val_accuracy did not improve from 0.90833\n",
      "480/480 [==============================] - 80s 166ms/step - loss: 0.0577 - accuracy: 0.9818 - val_loss: 0.4120 - val_accuracy: 0.8917\n",
      "Epoch 12/100\n",
      "480/480 [==============================] - ETA: 0s - loss: 0.0429 - accuracy: 0.9865\n",
      "Epoch 12: val_accuracy did not improve from 0.90833\n",
      "480/480 [==============================] - 81s 168ms/step - loss: 0.0429 - accuracy: 0.9865 - val_loss: 0.5033 - val_accuracy: 0.8833\n",
      "Epoch 13/100\n",
      "480/480 [==============================] - ETA: 0s - loss: 0.0478 - accuracy: 0.9859\n",
      "Epoch 13: val_accuracy did not improve from 0.90833\n",
      "480/480 [==============================] - 78s 163ms/step - loss: 0.0478 - accuracy: 0.9859 - val_loss: 0.6171 - val_accuracy: 0.8667\n",
      "Epoch 14/100\n",
      "480/480 [==============================] - ETA: 0s - loss: 0.0266 - accuracy: 0.9937\n",
      "Epoch 14: val_accuracy did not improve from 0.90833\n",
      "480/480 [==============================] - 80s 167ms/step - loss: 0.0266 - accuracy: 0.9937 - val_loss: 0.5979 - val_accuracy: 0.8667\n",
      "Epoch 15/100\n",
      "480/480 [==============================] - ETA: 0s - loss: 0.0729 - accuracy: 0.9844\n",
      "Epoch 15: val_accuracy did not improve from 0.90833\n",
      "480/480 [==============================] - 79s 165ms/step - loss: 0.0729 - accuracy: 0.9844 - val_loss: 0.5283 - val_accuracy: 0.8750\n",
      "Epoch 16/100\n",
      "480/480 [==============================] - ETA: 0s - loss: 0.0237 - accuracy: 0.9927\n",
      "Epoch 16: val_accuracy improved from 0.90833 to 0.91250, saving model to MyNet.h5\n",
      "480/480 [==============================] - 81s 168ms/step - loss: 0.0237 - accuracy: 0.9927 - val_loss: 0.4496 - val_accuracy: 0.9125\n",
      "Epoch 17/100\n",
      "480/480 [==============================] - ETA: 0s - loss: 0.0116 - accuracy: 0.9984\n",
      "Epoch 17: val_accuracy did not improve from 0.91250\n",
      "480/480 [==============================] - 80s 166ms/step - loss: 0.0116 - accuracy: 0.9984 - val_loss: 0.5452 - val_accuracy: 0.8958\n",
      "Epoch 18/100\n",
      "480/480 [==============================] - ETA: 0s - loss: 0.0626 - accuracy: 0.9812\n",
      "Epoch 18: val_accuracy did not improve from 0.91250\n",
      "480/480 [==============================] - 78s 162ms/step - loss: 0.0626 - accuracy: 0.9812 - val_loss: 0.4980 - val_accuracy: 0.9000\n",
      "Epoch 19/100\n",
      "480/480 [==============================] - ETA: 0s - loss: 0.0494 - accuracy: 0.9844\n",
      "Epoch 19: val_accuracy did not improve from 0.91250\n",
      "480/480 [==============================] - 79s 165ms/step - loss: 0.0494 - accuracy: 0.9844 - val_loss: 0.4484 - val_accuracy: 0.9125\n",
      "Epoch 20/100\n",
      "480/480 [==============================] - ETA: 0s - loss: 0.0161 - accuracy: 0.9969\n",
      "Epoch 20: val_accuracy did not improve from 0.91250\n",
      "480/480 [==============================] - 80s 166ms/step - loss: 0.0161 - accuracy: 0.9969 - val_loss: 0.5943 - val_accuracy: 0.8833\n",
      "Epoch 21/100\n",
      "480/480 [==============================] - ETA: 0s - loss: 0.0402 - accuracy: 0.9901\n",
      "Epoch 21: val_accuracy did not improve from 0.91250\n",
      "480/480 [==============================] - 79s 165ms/step - loss: 0.0402 - accuracy: 0.9901 - val_loss: 0.4513 - val_accuracy: 0.9083\n",
      "Epoch 22/100\n",
      "480/480 [==============================] - ETA: 0s - loss: 0.0154 - accuracy: 0.9974\n",
      "Epoch 22: val_accuracy did not improve from 0.91250\n",
      "480/480 [==============================] - 79s 165ms/step - loss: 0.0154 - accuracy: 0.9974 - val_loss: 0.3555 - val_accuracy: 0.9083\n",
      "Epoch 23/100\n",
      "480/480 [==============================] - ETA: 0s - loss: 8.6942e-04 - accuracy: 1.0000\n",
      "Epoch 23: val_accuracy improved from 0.91250 to 0.92500, saving model to MyNet.h5\n",
      "480/480 [==============================] - 77s 160ms/step - loss: 8.6942e-04 - accuracy: 1.0000 - val_loss: 0.3380 - val_accuracy: 0.9250\n",
      "Epoch 24/100\n",
      "480/480 [==============================] - ETA: 0s - loss: 6.1206e-04 - accuracy: 1.0000\n",
      "Epoch 24: val_accuracy improved from 0.92500 to 0.92917, saving model to MyNet.h5\n",
      "480/480 [==============================] - 79s 165ms/step - loss: 6.1206e-04 - accuracy: 1.0000 - val_loss: 0.3331 - val_accuracy: 0.9292\n",
      "Epoch 25/100\n",
      "480/480 [==============================] - ETA: 0s - loss: 2.2259e-04 - accuracy: 1.0000\n",
      "Epoch 25: val_accuracy did not improve from 0.92917\n",
      "480/480 [==============================] - 79s 165ms/step - loss: 2.2259e-04 - accuracy: 1.0000 - val_loss: 0.3342 - val_accuracy: 0.9292\n",
      "Epoch 26/100\n",
      "480/480 [==============================] - ETA: 0s - loss: 2.6864e-04 - accuracy: 1.0000\n",
      "Epoch 26: val_accuracy did not improve from 0.92917\n",
      "480/480 [==============================] - 79s 164ms/step - loss: 2.6864e-04 - accuracy: 1.0000 - val_loss: 0.3854 - val_accuracy: 0.9167\n",
      "Epoch 27/100\n",
      "480/480 [==============================] - ETA: 0s - loss: 0.1240 - accuracy: 0.9646\n",
      "Epoch 27: val_accuracy did not improve from 0.92917\n",
      "480/480 [==============================] - 78s 162ms/step - loss: 0.1240 - accuracy: 0.9646 - val_loss: 0.5944 - val_accuracy: 0.8500\n",
      "Epoch 28/100\n",
      "480/480 [==============================] - ETA: 0s - loss: 0.0388 - accuracy: 0.9865\n",
      "Epoch 28: val_accuracy did not improve from 0.92917\n",
      "480/480 [==============================] - 79s 164ms/step - loss: 0.0388 - accuracy: 0.9865 - val_loss: 0.4065 - val_accuracy: 0.9042\n"
     ]
    },
    {
     "name": "stdout",
     "output_type": "stream",
     "text": [
      "Epoch 29/100\n",
      "480/480 [==============================] - ETA: 0s - loss: 0.0033 - accuracy: 0.9995\n",
      "Epoch 29: val_accuracy did not improve from 0.92917\n",
      "480/480 [==============================] - 80s 166ms/step - loss: 0.0033 - accuracy: 0.9995 - val_loss: 0.4738 - val_accuracy: 0.9250\n",
      "Epoch 30/100\n",
      "480/480 [==============================] - ETA: 0s - loss: 0.0086 - accuracy: 0.9964\n",
      "Epoch 30: val_accuracy did not improve from 0.92917\n",
      "480/480 [==============================] - 79s 164ms/step - loss: 0.0086 - accuracy: 0.9964 - val_loss: 0.4842 - val_accuracy: 0.8958\n",
      "Epoch 31/100\n",
      "480/480 [==============================] - ETA: 0s - loss: 0.0499 - accuracy: 0.9859\n",
      "Epoch 31: val_accuracy did not improve from 0.92917\n",
      "480/480 [==============================] - 79s 165ms/step - loss: 0.0499 - accuracy: 0.9859 - val_loss: 0.5770 - val_accuracy: 0.8542\n",
      "Epoch 32/100\n",
      "480/480 [==============================] - ETA: 0s - loss: 0.0380 - accuracy: 0.9911\n",
      "Epoch 32: val_accuracy improved from 0.92917 to 0.94167, saving model to MyNet.h5\n",
      "480/480 [==============================] - 80s 166ms/step - loss: 0.0380 - accuracy: 0.9911 - val_loss: 0.3130 - val_accuracy: 0.9417\n",
      "Epoch 33/100\n",
      "480/480 [==============================] - ETA: 0s - loss: 0.0015 - accuracy: 1.0000\n",
      "Epoch 33: val_accuracy did not improve from 0.94167\n",
      "480/480 [==============================] - 80s 166ms/step - loss: 0.0015 - accuracy: 1.0000 - val_loss: 0.4038 - val_accuracy: 0.9292\n",
      "Epoch 34/100\n",
      "480/480 [==============================] - ETA: 0s - loss: 5.2829e-04 - accuracy: 1.0000\n",
      "Epoch 34: val_accuracy did not improve from 0.94167\n",
      "480/480 [==============================] - 79s 164ms/step - loss: 5.2829e-04 - accuracy: 1.0000 - val_loss: 0.4143 - val_accuracy: 0.9250\n",
      "Epoch 35/100\n",
      "480/480 [==============================] - ETA: 0s - loss: 0.0314 - accuracy: 0.9953\n",
      "Epoch 35: val_accuracy did not improve from 0.94167\n",
      "480/480 [==============================] - 79s 165ms/step - loss: 0.0314 - accuracy: 0.9953 - val_loss: 0.4699 - val_accuracy: 0.8958\n",
      "Epoch 36/100\n",
      "480/480 [==============================] - ETA: 0s - loss: 0.0285 - accuracy: 0.9943\n",
      "Epoch 36: val_accuracy did not improve from 0.94167\n",
      "480/480 [==============================] - 79s 165ms/step - loss: 0.0285 - accuracy: 0.9943 - val_loss: 0.4857 - val_accuracy: 0.8833\n",
      "Epoch 37/100\n",
      "480/480 [==============================] - ETA: 0s - loss: 0.0055 - accuracy: 0.9984\n",
      "Epoch 37: val_accuracy did not improve from 0.94167\n",
      "480/480 [==============================] - 79s 166ms/step - loss: 0.0055 - accuracy: 0.9984 - val_loss: 0.3859 - val_accuracy: 0.9167\n",
      "Epoch 38/100\n",
      "480/480 [==============================] - ETA: 0s - loss: 3.2817e-04 - accuracy: 1.0000\n",
      "Epoch 38: val_accuracy did not improve from 0.94167\n",
      "480/480 [==============================] - 78s 163ms/step - loss: 3.2817e-04 - accuracy: 1.0000 - val_loss: 0.3928 - val_accuracy: 0.9250\n",
      "Epoch 39/100\n",
      "480/480 [==============================] - ETA: 0s - loss: 2.8918e-04 - accuracy: 1.0000\n",
      "Epoch 39: val_accuracy did not improve from 0.94167\n",
      "480/480 [==============================] - 79s 164ms/step - loss: 2.8918e-04 - accuracy: 1.0000 - val_loss: 0.3719 - val_accuracy: 0.9250\n",
      "Epoch 40/100\n",
      "480/480 [==============================] - ETA: 0s - loss: 2.1982e-04 - accuracy: 1.0000\n",
      "Epoch 40: val_accuracy did not improve from 0.94167\n",
      "480/480 [==============================] - 79s 165ms/step - loss: 2.1982e-04 - accuracy: 1.0000 - val_loss: 0.4068 - val_accuracy: 0.9125\n",
      "Epoch 41/100\n",
      "480/480 [==============================] - ETA: 0s - loss: 1.0380e-04 - accuracy: 1.0000\n",
      "Epoch 41: val_accuracy did not improve from 0.94167\n",
      "480/480 [==============================] - 79s 164ms/step - loss: 1.0380e-04 - accuracy: 1.0000 - val_loss: 0.4109 - val_accuracy: 0.9125\n",
      "Epoch 42/100\n",
      "480/480 [==============================] - ETA: 0s - loss: 6.4042e-05 - accuracy: 1.0000\n",
      "Epoch 42: val_accuracy did not improve from 0.94167\n",
      "480/480 [==============================] - 78s 163ms/step - loss: 6.4042e-05 - accuracy: 1.0000 - val_loss: 0.4071 - val_accuracy: 0.9125\n",
      "Epoch 43/100\n",
      "480/480 [==============================] - ETA: 0s - loss: 8.6465e-05 - accuracy: 1.0000\n",
      "Epoch 43: val_accuracy did not improve from 0.94167\n",
      "480/480 [==============================] - 79s 164ms/step - loss: 8.6465e-05 - accuracy: 1.0000 - val_loss: 0.4702 - val_accuracy: 0.9083\n",
      "Epoch 44/100\n",
      "480/480 [==============================] - ETA: 0s - loss: 1.5633e-04 - accuracy: 1.0000\n",
      "Epoch 44: val_accuracy did not improve from 0.94167\n",
      "480/480 [==============================] - 79s 165ms/step - loss: 1.5633e-04 - accuracy: 1.0000 - val_loss: 0.4404 - val_accuracy: 0.9083\n",
      "Epoch 45/100\n",
      "480/480 [==============================] - ETA: 0s - loss: 0.0957 - accuracy: 0.9760\n",
      "Epoch 45: val_accuracy did not improve from 0.94167\n",
      "480/480 [==============================] - 77s 161ms/step - loss: 0.0957 - accuracy: 0.9760 - val_loss: 0.5318 - val_accuracy: 0.8792\n",
      "Epoch 46/100\n",
      "480/480 [==============================] - ETA: 0s - loss: 0.0145 - accuracy: 0.9948\n",
      "Epoch 46: val_accuracy did not improve from 0.94167\n",
      "480/480 [==============================] - 78s 162ms/step - loss: 0.0145 - accuracy: 0.9948 - val_loss: 0.4090 - val_accuracy: 0.9292\n",
      "Epoch 47/100\n",
      "480/480 [==============================] - ETA: 0s - loss: 0.0049 - accuracy: 0.9990\n",
      "Epoch 47: val_accuracy did not improve from 0.94167\n",
      "480/480 [==============================] - 80s 167ms/step - loss: 0.0049 - accuracy: 0.9990 - val_loss: 0.4113 - val_accuracy: 0.9167\n",
      "Epoch 48/100\n",
      "480/480 [==============================] - ETA: 0s - loss: 4.1986e-04 - accuracy: 1.0000\n",
      "Epoch 48: val_accuracy did not improve from 0.94167\n",
      "480/480 [==============================] - 80s 166ms/step - loss: 4.1986e-04 - accuracy: 1.0000 - val_loss: 0.4200 - val_accuracy: 0.9250\n",
      "Epoch 49/100\n",
      "480/480 [==============================] - ETA: 0s - loss: 2.2703e-04 - accuracy: 1.0000\n",
      "Epoch 49: val_accuracy did not improve from 0.94167\n",
      "480/480 [==============================] - 79s 164ms/step - loss: 2.2703e-04 - accuracy: 1.0000 - val_loss: 0.4400 - val_accuracy: 0.9208\n",
      "Epoch 50/100\n",
      "480/480 [==============================] - ETA: 0s - loss: 1.8317e-04 - accuracy: 1.0000\n",
      "Epoch 50: val_accuracy did not improve from 0.94167\n",
      "480/480 [==============================] - 78s 163ms/step - loss: 1.8317e-04 - accuracy: 1.0000 - val_loss: 0.4237 - val_accuracy: 0.9208\n",
      "Epoch 51/100\n",
      "480/480 [==============================] - ETA: 0s - loss: 1.2773e-04 - accuracy: 1.0000\n",
      "Epoch 51: val_accuracy did not improve from 0.94167\n",
      "480/480 [==============================] - 79s 165ms/step - loss: 1.2773e-04 - accuracy: 1.0000 - val_loss: 0.4335 - val_accuracy: 0.9208\n",
      "Epoch 52/100\n",
      "480/480 [==============================] - ETA: 0s - loss: 7.5356e-05 - accuracy: 1.0000\n",
      "Epoch 52: val_accuracy did not improve from 0.94167\n",
      "480/480 [==============================] - 80s 167ms/step - loss: 7.5356e-05 - accuracy: 1.0000 - val_loss: 0.4447 - val_accuracy: 0.9167\n",
      "Epoch 53/100\n",
      "480/480 [==============================] - ETA: 0s - loss: 8.8492e-05 - accuracy: 1.0000\n",
      "Epoch 53: val_accuracy did not improve from 0.94167\n",
      "480/480 [==============================] - 80s 166ms/step - loss: 8.8492e-05 - accuracy: 1.0000 - val_loss: 0.4430 - val_accuracy: 0.9167\n",
      "Epoch 54/100\n",
      "480/480 [==============================] - ETA: 0s - loss: 5.7935e-05 - accuracy: 1.0000\n",
      "Epoch 54: val_accuracy did not improve from 0.94167\n",
      "480/480 [==============================] - 80s 166ms/step - loss: 5.7935e-05 - accuracy: 1.0000 - val_loss: 0.4435 - val_accuracy: 0.9208\n",
      "Epoch 55/100\n",
      "480/480 [==============================] - ETA: 0s - loss: 8.5269e-05 - accuracy: 1.0000\n",
      "Epoch 55: val_accuracy did not improve from 0.94167\n",
      "480/480 [==============================] - 79s 165ms/step - loss: 8.5269e-05 - accuracy: 1.0000 - val_loss: 0.4926 - val_accuracy: 0.9083\n",
      "Epoch 56/100\n",
      "480/480 [==============================] - ETA: 0s - loss: 5.5630e-05 - accuracy: 1.0000\n",
      "Epoch 56: val_accuracy did not improve from 0.94167\n",
      "480/480 [==============================] - 79s 164ms/step - loss: 5.5630e-05 - accuracy: 1.0000 - val_loss: 0.5156 - val_accuracy: 0.9125\n",
      "Epoch 57/100\n"
     ]
    },
    {
     "name": "stdout",
     "output_type": "stream",
     "text": [
      "480/480 [==============================] - ETA: 0s - loss: 7.1697e-05 - accuracy: 1.0000\n",
      "Epoch 57: val_accuracy did not improve from 0.94167\n",
      "480/480 [==============================] - 80s 167ms/step - loss: 7.1697e-05 - accuracy: 1.0000 - val_loss: 0.5363 - val_accuracy: 0.9042\n",
      "Epoch 58/100\n",
      "480/480 [==============================] - ETA: 0s - loss: 0.0847 - accuracy: 0.9786\n",
      "Epoch 58: val_accuracy did not improve from 0.94167\n",
      "480/480 [==============================] - 80s 166ms/step - loss: 0.0847 - accuracy: 0.9786 - val_loss: 0.4471 - val_accuracy: 0.9250\n",
      "Epoch 59/100\n",
      "480/480 [==============================] - ETA: 0s - loss: 0.0059 - accuracy: 0.9974\n",
      "Epoch 59: val_accuracy did not improve from 0.94167\n",
      "480/480 [==============================] - 82s 171ms/step - loss: 0.0059 - accuracy: 0.9974 - val_loss: 0.4317 - val_accuracy: 0.9167\n",
      "Epoch 60/100\n",
      "480/480 [==============================] - ETA: 0s - loss: 4.8430e-04 - accuracy: 1.0000\n",
      "Epoch 60: val_accuracy did not improve from 0.94167\n",
      "480/480 [==============================] - 82s 172ms/step - loss: 4.8430e-04 - accuracy: 1.0000 - val_loss: 0.4641 - val_accuracy: 0.9250\n",
      "Epoch 61/100\n",
      "480/480 [==============================] - ETA: 0s - loss: 0.0152 - accuracy: 0.9958\n",
      "Epoch 61: val_accuracy did not improve from 0.94167\n",
      "480/480 [==============================] - 82s 171ms/step - loss: 0.0152 - accuracy: 0.9958 - val_loss: 0.4274 - val_accuracy: 0.9083\n",
      "Epoch 62/100\n",
      "480/480 [==============================] - ETA: 0s - loss: 0.0078 - accuracy: 0.9969\n",
      "Epoch 62: val_accuracy did not improve from 0.94167\n",
      "480/480 [==============================] - 80s 167ms/step - loss: 0.0078 - accuracy: 0.9969 - val_loss: 0.5283 - val_accuracy: 0.9083\n",
      "Epoch 63/100\n",
      "480/480 [==============================] - ETA: 0s - loss: 0.0160 - accuracy: 0.9943\n",
      "Epoch 63: val_accuracy did not improve from 0.94167\n",
      "480/480 [==============================] - 83s 172ms/step - loss: 0.0160 - accuracy: 0.9943 - val_loss: 0.5639 - val_accuracy: 0.9000\n",
      "Epoch 64/100\n",
      "480/480 [==============================] - ETA: 0s - loss: 0.0222 - accuracy: 0.9948\n",
      "Epoch 64: val_accuracy did not improve from 0.94167\n",
      "480/480 [==============================] - 80s 167ms/step - loss: 0.0222 - accuracy: 0.9948 - val_loss: 0.4962 - val_accuracy: 0.9000\n",
      "Epoch 65/100\n",
      "480/480 [==============================] - ETA: 0s - loss: 0.0154 - accuracy: 0.9948\n",
      "Epoch 65: val_accuracy did not improve from 0.94167\n",
      "480/480 [==============================] - 80s 166ms/step - loss: 0.0154 - accuracy: 0.9948 - val_loss: 0.7297 - val_accuracy: 0.8708\n",
      "Epoch 66/100\n",
      "480/480 [==============================] - ETA: 0s - loss: 0.0068 - accuracy: 0.9974\n",
      "Epoch 66: val_accuracy did not improve from 0.94167\n",
      "480/480 [==============================] - 81s 169ms/step - loss: 0.0068 - accuracy: 0.9974 - val_loss: 0.5796 - val_accuracy: 0.9083\n",
      "Epoch 67/100\n",
      "480/480 [==============================] - ETA: 0s - loss: 7.2925e-04 - accuracy: 1.0000\n",
      "Epoch 67: val_accuracy did not improve from 0.94167\n",
      "480/480 [==============================] - 82s 172ms/step - loss: 7.2925e-04 - accuracy: 1.0000 - val_loss: 0.5145 - val_accuracy: 0.9167\n",
      "Epoch 68/100\n",
      "480/480 [==============================] - ETA: 0s - loss: 1.7040e-04 - accuracy: 1.0000\n",
      "Epoch 68: val_accuracy did not improve from 0.94167\n",
      "480/480 [==============================] - 81s 168ms/step - loss: 1.7040e-04 - accuracy: 1.0000 - val_loss: 0.5002 - val_accuracy: 0.9250\n",
      "Epoch 69/100\n",
      "480/480 [==============================] - ETA: 0s - loss: 1.1020e-04 - accuracy: 1.0000\n",
      "Epoch 69: val_accuracy did not improve from 0.94167\n",
      "480/480 [==============================] - 80s 167ms/step - loss: 1.1020e-04 - accuracy: 1.0000 - val_loss: 0.4983 - val_accuracy: 0.9208\n",
      "Epoch 70/100\n",
      "480/480 [==============================] - ETA: 0s - loss: 5.5239e-05 - accuracy: 1.0000\n",
      "Epoch 70: val_accuracy did not improve from 0.94167\n",
      "480/480 [==============================] - 81s 168ms/step - loss: 5.5239e-05 - accuracy: 1.0000 - val_loss: 0.5049 - val_accuracy: 0.9208\n",
      "Epoch 71/100\n",
      "480/480 [==============================] - ETA: 0s - loss: 5.7602e-05 - accuracy: 1.0000\n",
      "Epoch 71: val_accuracy did not improve from 0.94167\n",
      "480/480 [==============================] - 81s 168ms/step - loss: 5.7602e-05 - accuracy: 1.0000 - val_loss: 0.4909 - val_accuracy: 0.9292\n",
      "Epoch 72/100\n",
      "480/480 [==============================] - ETA: 0s - loss: 5.3880e-05 - accuracy: 1.0000\n",
      "Epoch 72: val_accuracy did not improve from 0.94167\n",
      "480/480 [==============================] - 80s 166ms/step - loss: 5.3880e-05 - accuracy: 1.0000 - val_loss: 0.4860 - val_accuracy: 0.9292\n",
      "Epoch 73/100\n",
      "480/480 [==============================] - ETA: 0s - loss: 1.9743e-05 - accuracy: 1.0000\n",
      "Epoch 73: val_accuracy did not improve from 0.94167\n",
      "480/480 [==============================] - 80s 166ms/step - loss: 1.9743e-05 - accuracy: 1.0000 - val_loss: 0.4784 - val_accuracy: 0.9292\n",
      "Epoch 74/100\n",
      "480/480 [==============================] - ETA: 0s - loss: 3.4324e-05 - accuracy: 1.0000\n",
      "Epoch 74: val_accuracy did not improve from 0.94167\n",
      "480/480 [==============================] - 81s 169ms/step - loss: 3.4324e-05 - accuracy: 1.0000 - val_loss: 0.4769 - val_accuracy: 0.9208\n",
      "Epoch 75/100\n",
      "480/480 [==============================] - ETA: 0s - loss: 1.5421e-05 - accuracy: 1.0000\n",
      "Epoch 75: val_accuracy did not improve from 0.94167\n",
      "480/480 [==============================] - 80s 167ms/step - loss: 1.5421e-05 - accuracy: 1.0000 - val_loss: 0.4771 - val_accuracy: 0.9250\n",
      "Epoch 76/100\n",
      "480/480 [==============================] - ETA: 0s - loss: 1.0641e-05 - accuracy: 1.0000\n",
      "Epoch 76: val_accuracy did not improve from 0.94167\n",
      "480/480 [==============================] - 80s 167ms/step - loss: 1.0641e-05 - accuracy: 1.0000 - val_loss: 0.4752 - val_accuracy: 0.9250\n",
      "Epoch 77/100\n",
      "480/480 [==============================] - ETA: 0s - loss: 1.1524e-05 - accuracy: 1.0000\n",
      "Epoch 77: val_accuracy did not improve from 0.94167\n",
      "480/480 [==============================] - 79s 164ms/step - loss: 1.1524e-05 - accuracy: 1.0000 - val_loss: 0.4914 - val_accuracy: 0.9250\n",
      "Epoch 78/100\n",
      "480/480 [==============================] - ETA: 0s - loss: 0.0660 - accuracy: 0.9797\n",
      "Epoch 78: val_accuracy did not improve from 0.94167\n",
      "480/480 [==============================] - 81s 169ms/step - loss: 0.0660 - accuracy: 0.9797 - val_loss: 0.7612 - val_accuracy: 0.8625\n",
      "Epoch 79/100\n",
      "480/480 [==============================] - ETA: 0s - loss: 0.0199 - accuracy: 0.9948\n",
      "Epoch 79: val_accuracy did not improve from 0.94167\n",
      "480/480 [==============================] - 80s 168ms/step - loss: 0.0199 - accuracy: 0.9948 - val_loss: 0.5959 - val_accuracy: 0.9167\n",
      "Epoch 80/100\n",
      "480/480 [==============================] - ETA: 0s - loss: 0.0024 - accuracy: 0.9995\n",
      "Epoch 80: val_accuracy did not improve from 0.94167\n",
      "480/480 [==============================] - 82s 171ms/step - loss: 0.0024 - accuracy: 0.9995 - val_loss: 0.4701 - val_accuracy: 0.9167\n",
      "Epoch 81/100\n",
      "480/480 [==============================] - ETA: 0s - loss: 2.4046e-04 - accuracy: 1.0000\n",
      "Epoch 81: val_accuracy did not improve from 0.94167\n",
      "480/480 [==============================] - 80s 167ms/step - loss: 2.4046e-04 - accuracy: 1.0000 - val_loss: 0.4759 - val_accuracy: 0.9208\n",
      "Epoch 82/100\n",
      "480/480 [==============================] - ETA: 0s - loss: 1.1152e-04 - accuracy: 1.0000\n",
      "Epoch 82: val_accuracy did not improve from 0.94167\n",
      "480/480 [==============================] - 79s 165ms/step - loss: 1.1152e-04 - accuracy: 1.0000 - val_loss: 0.4821 - val_accuracy: 0.9208\n",
      "Epoch 83/100\n",
      "480/480 [==============================] - ETA: 0s - loss: 9.8331e-05 - accuracy: 1.0000\n",
      "Epoch 83: val_accuracy did not improve from 0.94167\n",
      "480/480 [==============================] - 80s 167ms/step - loss: 9.8331e-05 - accuracy: 1.0000 - val_loss: 0.4974 - val_accuracy: 0.9125\n",
      "Epoch 84/100\n",
      "480/480 [==============================] - ETA: 0s - loss: 1.0263e-04 - accuracy: 1.0000\n",
      "Epoch 84: val_accuracy did not improve from 0.94167\n",
      "480/480 [==============================] - 81s 169ms/step - loss: 1.0263e-04 - accuracy: 1.0000 - val_loss: 0.5111 - val_accuracy: 0.9083\n",
      "Epoch 85/100\n",
      "480/480 [==============================] - ETA: 0s - loss: 1.1525e-04 - accuracy: 1.0000\n",
      "Epoch 85: val_accuracy did not improve from 0.94167\n"
     ]
    },
    {
     "name": "stdout",
     "output_type": "stream",
     "text": [
      "480/480 [==============================] - 80s 167ms/step - loss: 1.1525e-04 - accuracy: 1.0000 - val_loss: 0.5020 - val_accuracy: 0.9208\n",
      "Epoch 86/100\n",
      "480/480 [==============================] - ETA: 0s - loss: 1.3725e-04 - accuracy: 1.0000\n",
      "Epoch 86: val_accuracy did not improve from 0.94167\n",
      "480/480 [==============================] - 79s 165ms/step - loss: 1.3725e-04 - accuracy: 1.0000 - val_loss: 0.7532 - val_accuracy: 0.9083\n",
      "Epoch 87/100\n",
      "480/480 [==============================] - ETA: 0s - loss: 0.0636 - accuracy: 0.9833\n",
      "Epoch 87: val_accuracy did not improve from 0.94167\n",
      "480/480 [==============================] - 83s 172ms/step - loss: 0.0636 - accuracy: 0.9833 - val_loss: 0.6053 - val_accuracy: 0.9000\n",
      "Epoch 88/100\n",
      "480/480 [==============================] - ETA: 0s - loss: 0.0321 - accuracy: 0.9906\n",
      "Epoch 88: val_accuracy did not improve from 0.94167\n",
      "480/480 [==============================] - 82s 170ms/step - loss: 0.0321 - accuracy: 0.9906 - val_loss: 0.4148 - val_accuracy: 0.9333\n",
      "Epoch 89/100\n",
      "480/480 [==============================] - ETA: 0s - loss: 0.0083 - accuracy: 0.9974\n",
      "Epoch 89: val_accuracy did not improve from 0.94167\n",
      "480/480 [==============================] - 81s 168ms/step - loss: 0.0083 - accuracy: 0.9974 - val_loss: 0.3379 - val_accuracy: 0.9333\n",
      "Epoch 90/100\n",
      "480/480 [==============================] - ETA: 0s - loss: 6.9919e-04 - accuracy: 1.0000\n",
      "Epoch 90: val_accuracy did not improve from 0.94167\n",
      "480/480 [==============================] - 80s 167ms/step - loss: 6.9919e-04 - accuracy: 1.0000 - val_loss: 0.3570 - val_accuracy: 0.9292\n",
      "Epoch 91/100\n",
      "480/480 [==============================] - ETA: 0s - loss: 2.0254e-04 - accuracy: 1.0000\n",
      "Epoch 91: val_accuracy did not improve from 0.94167\n",
      "480/480 [==============================] - 83s 172ms/step - loss: 2.0254e-04 - accuracy: 1.0000 - val_loss: 0.3422 - val_accuracy: 0.9417\n",
      "Epoch 92/100\n",
      "480/480 [==============================] - ETA: 0s - loss: 1.0502e-04 - accuracy: 1.0000\n",
      "Epoch 92: val_accuracy did not improve from 0.94167\n",
      "480/480 [==============================] - 81s 169ms/step - loss: 1.0502e-04 - accuracy: 1.0000 - val_loss: 0.3405 - val_accuracy: 0.9417\n",
      "Epoch 93/100\n",
      "480/480 [==============================] - ETA: 0s - loss: 5.9262e-05 - accuracy: 1.0000\n",
      "Epoch 93: val_accuracy did not improve from 0.94167\n",
      "480/480 [==============================] - 81s 168ms/step - loss: 5.9262e-05 - accuracy: 1.0000 - val_loss: 0.3424 - val_accuracy: 0.9417\n",
      "Epoch 94/100\n",
      "480/480 [==============================] - ETA: 0s - loss: 6.6931e-05 - accuracy: 1.0000\n",
      "Epoch 94: val_accuracy did not improve from 0.94167\n",
      "480/480 [==============================] - 82s 172ms/step - loss: 6.6931e-05 - accuracy: 1.0000 - val_loss: 0.3485 - val_accuracy: 0.9417\n",
      "Epoch 95/100\n",
      "480/480 [==============================] - ETA: 0s - loss: 3.9214e-05 - accuracy: 1.0000\n",
      "Epoch 95: val_accuracy did not improve from 0.94167\n",
      "480/480 [==============================] - 81s 169ms/step - loss: 3.9214e-05 - accuracy: 1.0000 - val_loss: 0.3535 - val_accuracy: 0.9417\n",
      "Epoch 96/100\n",
      "480/480 [==============================] - ETA: 0s - loss: 3.0063e-05 - accuracy: 1.0000\n",
      "Epoch 96: val_accuracy did not improve from 0.94167\n",
      "480/480 [==============================] - 80s 167ms/step - loss: 3.0063e-05 - accuracy: 1.0000 - val_loss: 0.3584 - val_accuracy: 0.9417\n",
      "Epoch 97/100\n",
      "480/480 [==============================] - ETA: 0s - loss: 3.9953e-05 - accuracy: 1.0000\n",
      "Epoch 97: val_accuracy did not improve from 0.94167\n",
      "480/480 [==============================] - 80s 166ms/step - loss: 3.9953e-05 - accuracy: 1.0000 - val_loss: 0.3639 - val_accuracy: 0.9375\n",
      "Epoch 98/100\n",
      "480/480 [==============================] - ETA: 0s - loss: 3.5107e-05 - accuracy: 1.0000\n",
      "Epoch 98: val_accuracy did not improve from 0.94167\n",
      "480/480 [==============================] - 80s 167ms/step - loss: 3.5107e-05 - accuracy: 1.0000 - val_loss: 0.3766 - val_accuracy: 0.9417\n",
      "Epoch 99/100\n",
      "480/480 [==============================] - ETA: 0s - loss: 7.1553e-05 - accuracy: 1.0000\n",
      "Epoch 99: val_accuracy did not improve from 0.94167\n",
      "480/480 [==============================] - 81s 169ms/step - loss: 7.1553e-05 - accuracy: 1.0000 - val_loss: 0.4209 - val_accuracy: 0.9417\n",
      "Epoch 100/100\n",
      "480/480 [==============================] - ETA: 0s - loss: 0.0291 - accuracy: 0.9885\n",
      "Epoch 100: val_accuracy did not improve from 0.94167\n",
      "480/480 [==============================] - 81s 168ms/step - loss: 0.0291 - accuracy: 0.9885 - val_loss: 0.4862 - val_accuracy: 0.9333\n"
     ]
    }
   ],
   "source": [
    "from tensorflow.keras.callbacks import ModelCheckpoint\n",
    "from tensorflow.keras.callbacks import Callback\n",
    "\n",
    "from timeit import default_timer as timer\n",
    "\n",
    "class TimingCallback(Callback):\n",
    "    def __init__(self, logs={}):\n",
    "        self.logs=[]\n",
    "    def on_epoch_begin(self, epoch, logs={}):\n",
    "        self.starttime = timer()\n",
    "    def on_epoch_end(self, epoch, logs={}):\n",
    "        self.logs.append(timer()-self.starttime)\n",
    "\n",
    "cb = TimingCallback()\n",
    "\n",
    "model_ckpt = ModelCheckpoint('MyNet.h5',monitor='val_accuracy', verbose=1,save_best_only=True )\n",
    "# Compile the model and specify loss function, optimizer and metrics values to the model\n",
    "adam=tf.keras.optimizers.Adam(learning_rate=0.0005)\n",
    "convlstm_model.compile(loss = 'categorical_crossentropy',optimizer=adam, metrics = [\"accuracy\"])\n",
    "#tf.keras.optimizers.Adam(lr=0.0005)\n",
    "# Start training the model.\n",
    "convlstm_model_training_history = convlstm_model.fit(x = features_train, y = labels_train, epochs = 100, batch_size = 4,\n",
    "                                                     validation_data=(features_val, labels_val),\n",
    "                                                     callbacks = [cb,model_ckpt])\n",
    "                                                     #callbacks = [TerminateOnBaseline(monitor='val_accuracy', baseline=0.96)])"
   ]
  },
  {
   "cell_type": "code",
   "execution_count": 10,
   "metadata": {
    "colab": {
     "base_uri": "https://localhost:8080/"
    },
    "id": "pCO_BvfKvObS",
    "outputId": "ed631a9c-3837-4e6f-f62b-af30671bc9dd",
    "scrolled": true
   },
   "outputs": [
    {
     "name": "stdout",
     "output_type": "stream",
     "text": [
      "[88.9216481, 79.43365599999998, 82.20608339999998, 81.92844330000003, 81.4647574, 80.12106650000004, 81.49965929999996, 79.44564030000004, 80.54326500000002, 81.17178750000005, 79.54663740000001, 80.61907629999996, 78.19297970000002, 80.17873940000004, 79.32634600000006, 80.48970480000003, 79.52324369999997, 77.78759419999983, 79.11427149999986, 79.52211710000006, 79.28243369999996, 79.23278400000004, 76.65813260000004, 79.26401889999988, 79.26027580000004, 78.53609140000003, 77.92566850000003, 78.6241015999999, 79.5182676999998, 78.86166169999979, 79.18438730000025, 79.76961130000018, 79.8772672, 78.72697110000036, 78.95712839999987, 79.11768559999973, 79.45842739999989, 78.31720320000022, 78.72822700000006, 79.29048269999976, 78.7169498000003, 78.02665859999979, 78.53771370000004, 79.34341059999997, 77.38145859999986, 77.80069110000022, 80.19111879999991, 79.75369280000041, 78.70316720000028, 78.08680580000009, 79.32067340000003, 80.0516733000004, 79.77055660000042, 79.54810130000078, 79.05542960000002, 78.64613970000028, 79.93506509999952, 79.90158760000031, 82.13911589999952, 82.43657030000031, 81.94891910000024, 80.36642159999974, 82.6472216000002, 79.92459589999999, 79.75295050000022, 81.10002439999971, 82.43882170000052, 80.76410240000041, 80.03777869999976, 80.53156579999995, 80.52992590000031, 79.66233829999965, 79.90869590000057, 81.17281399999956, 79.98841220000031, 80.11239889999979, 78.60097880000012, 81.27006000000074, 80.451231, 82.17177790000005, 80.18146479999996, 79.1883401999994, 79.98144049999974, 81.09860279999975, 79.99986839999929, 79.15662150000026, 82.64587269999993, 81.57417110000006, 80.5388782, 79.91978000000017, 82.7580027999993, 81.09890900000028, 80.6756378, 82.39130099999966, 81.03009569999995, 79.94437930000004, 79.70054540000001, 80.34552639999947, 81.10460869999952, 80.94021260000045]\n",
      "8004.629417300001\n"
     ]
    }
   ],
   "source": [
    "print(cb.logs)\n",
    "print(sum(cb.logs))\n",
    "np.save('my_history.npy',convlstm_model_training_history.history)"
   ]
  },
  {
   "cell_type": "code",
   "execution_count": 11,
   "metadata": {},
   "outputs": [],
   "source": [
    "history=np.load('my_history.npy',allow_pickle='TRUE').item()"
   ]
  },
  {
   "cell_type": "code",
   "execution_count": 12,
   "metadata": {},
   "outputs": [],
   "source": [
    "convlstm_model_training_history = history"
   ]
  },
  {
   "cell_type": "code",
   "execution_count": 13,
   "metadata": {
    "id": "R2dUS7jKvObT"
   },
   "outputs": [],
   "source": [
    "def plot_metric(model_training_history, metric_name_1, metric_name_2, plot_name):\n",
    "    '''\n",
    "    This function will plot the metrics passed to it in a graph.\n",
    "    Args:\n",
    "        model_training_history: A history object containing a record of training and validation \n",
    "                                loss values and metrics values at successive epochs\n",
    "        metric_name_1:          The name of the first metric that needs to be plotted in the graph.\n",
    "        metric_name_2:          The name of the second metric that needs to be plotted in the graph.\n",
    "        plot_name:              The title of the graph.\n",
    "    '''\n",
    "    \n",
    "    # Get metric values using metric names as identifiers.\n",
    "    metric_value_1 = model_training_history[metric_name_1]\n",
    "    metric_value_2 = model_training_history[metric_name_2]\n",
    "    \n",
    "    # Construct a range object which will be used as x-axis (horizontal plane) of the graph.\n",
    "    epochs = range(len(metric_value_1))\n",
    "\n",
    "    # Plot the Graph.\n",
    "    plt.plot(epochs, metric_value_1, 'blue', label = metric_name_1)\n",
    "    plt.plot(epochs, metric_value_2, 'red', label = metric_name_2)\n",
    "\n",
    "    # Add title to the plot.\n",
    "    plt.title(str(plot_name))\n",
    "\n",
    "    # Add legend to the plot.\n",
    "    plt.legend()\n",
    "    \n",
    "    plt.savefig(\"output\"+metric_name_1+\".jpg\")"
   ]
  },
  {
   "cell_type": "code",
   "execution_count": 14,
   "metadata": {
    "colab": {
     "base_uri": "https://localhost:8080/",
     "height": 281
    },
    "id": "ehmlRBMTvObU",
    "outputId": "020a0203-0c43-4259-eade-2112c546598a"
   },
   "outputs": [
    {
     "data": {
      "image/png": "[encoded data removed]",
      "text/plain": [
       "<Figure size 640x480 with 1 Axes>"
      ]
     },
     "metadata": {},
     "output_type": "display_data"
    }
   ],
   "source": [
    "# Visualize the training and validation loss metrices.\n",
    "plot_metric(convlstm_model_training_history, 'loss', 'val_loss', 'Total Loss vs Total Validation Loss')"
   ]
  },
  {
   "cell_type": "code",
   "execution_count": 15,
   "metadata": {
    "colab": {
     "base_uri": "https://localhost:8080/",
     "height": 281
    },
    "id": "zeIlmA3JvObU",
    "outputId": "cdfb9923-9877-434a-89ad-f99545444c48"
   },
   "outputs": [
    {
     "data": {
      "image/png": "[encoded data removed]",
      "text/plain": [
       "<Figure size 640x480 with 1 Axes>"
      ]
     },
     "metadata": {},
     "output_type": "display_data"
    }
   ],
   "source": [
    "# Visualize the training and validation accuracy metrices.\n",
    "plot_metric(convlstm_model_training_history, 'accuracy', 'val_accuracy', 'Total Accuracy vs Total Validation Accuracy') "
   ]
  },
  {
   "cell_type": "code",
   "execution_count": null,
   "metadata": {},
   "outputs": [],
   "source": [
    "# Evaluate the trained model.\n",
    "from keras.models import load_model\n",
    "convlstm_model = load_model(\"MyNet.h5\")\n",
    "model_evaluation_history = convlstm_model.evaluate(features_test, labels_test)\n"
   ]
  },
  {
   "cell_type": "code",
   "execution_count": null,
   "metadata": {},
   "outputs": [],
   "source": [
    "# Get the loss and accuracy from model_evaluation_history.\n",
    "model_evaluation_loss, model_evaluation_accuracy = model_evaluation_history\n",
    "\n",
    "# Define the string date format.\n",
    "# Get the current Date and Time in a DateTime Object.\n",
    "# Convert the DateTime object to string according to the style mentioned in date_time_format string.\n",
    "date_time_format = '%Y_%m_%d__%H_%M_%S'\n",
    "current_date_time_dt = dt.datetime.now()\n",
    "current_date_time_string = dt.datetime.strftime(current_date_time_dt, date_time_format)\n",
    "\n",
    "# Define a useful name for our model to make it easy for us while navigating through multiple saved models.\n",
    "model_file_name = f'convlstm_model___Date_Time_{current_date_time_string}___Loss_{model_evaluation_loss}___Accuracy_{model_evaluation_accuracy}.h5'\n",
    "\n",
    "# Save your Model.\n",
    "convlstm_model.save(model_file_name)"
   ]
  },
  {
   "cell_type": "code",
   "execution_count": null,
   "metadata": {
    "colab": {
     "base_uri": "https://localhost:8080/"
    },
    "id": "4bvV84cbvObV",
    "outputId": "104dc244-6c14-455c-ea80-80d6d51672f9"
   },
   "outputs": [],
   "source": [
    "predict_x=convlstm_model.predict(features_test) \n",
    "rounded_predictions=np.argmax(predict_x,axis=1)\n",
    "\n",
    "print(rounded_predictions[1])\n",
    "\n",
    "rounded_labels=np.argmax(labels_test, axis=1)\n",
    "print(rounded_labels[1])\n",
    "from sklearn.metrics import confusion_matrix\n",
    "cm = confusion_matrix(rounded_labels, rounded_predictions)\n",
    "print(cm)\n"
   ]
  },
  {
   "cell_type": "code",
   "execution_count": null,
   "metadata": {
    "colab": {
     "base_uri": "https://localhost:8080/"
    },
    "id": "AkdqBgJZvObV",
    "outputId": "c44eecc7-8b78-4c92-a6d8-e1bd4bd6d361",
    "scrolled": false
   },
   "outputs": [],
   "source": [
    "from sklearn.metrics import classification_report\n",
    "# predict \n",
    "predictions = convlstm_model.predict(features_test)#, batch_size = 4)\n",
    "pred = np.argmax(predictions, axis=1)\n",
    "# label\n",
    "rounded_labels=np.argmax(labels_test, axis=1)\n",
    "\n",
    "print(classification_report(rounded_labels, pred))\n",
    "# precission “Berapa persen mahasiswa yang benar DO dari keseluruhan mahasiswa yang diprediksi DO?”\n",
    "# recall \"Berapa persen mahasiswa yang diprediksi DO dibandingkan keseluruhan mahasiswa yang sebenarnya DO?\""
   ]
  },
  {
   "cell_type": "code",
   "execution_count": null,
   "metadata": {},
   "outputs": [],
   "source": []
  },
  {
   "cell_type": "code",
   "execution_count": null,
   "metadata": {
    "id": "Ff-_bb7TvObW"
   },
   "outputs": [],
   "source": []
  },
  {
   "cell_type": "code",
   "execution_count": null,
   "metadata": {
    "id": "s49P0UjVvObX"
   },
   "outputs": [],
   "source": []
  },
  {
   "cell_type": "code",
   "execution_count": null,
   "metadata": {
    "id": "x3cbsrQnvObX"
   },
   "outputs": [],
   "source": []
  }
 ],
 "metadata": {
  "accelerator": "GPU",
  "colab": {
   "machine_shape": "hm",
   "provenance": []
  },
  "gpuClass": "standard",
  "kernelspec": {
   "display_name": "Python 3 (ipykernel)",
   "language": "python",
   "name": "python3"
  },
  "language_info": {
   "codemirror_mode": {
    "name": "ipython",
    "version": 3
   },
   "file_extension": ".py",
   "mimetype": "text/x-python",
   "name": "python",
   "nbconvert_exporter": "python",
   "pygments_lexer": "ipython3",
   "version": "3.9.15"
  }
 },
 "nbformat": 4,
 "nbformat_minor": 1
}
